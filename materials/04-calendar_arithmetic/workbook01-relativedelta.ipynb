{
 "cells": [
  {
   "cell_type": "markdown",
   "metadata": {},
   "source": [
    "# Calendar Arithmetic"
   ]
  },
  {
   "cell_type": "markdown",
   "metadata": {},
   "source": [
    "## Introduction\n",
    "\n",
    "There are many relationships between datetimes that we would like to express but that cannot be expressed with `timedelta`. One of the reasons for this is *ambiguity*. In addition to the ambiguity of absolute vs. wall times, the lengths of certain common units are poorly defined - how long is \"one month from now\" or \"one year from now\", for example.\n",
    "\n",
    "`dateutil` provides the `relativedelta` class for calendrical operations where the duration may depend on the starting datetime, so, for example:\n",
    "\n",
    "- \"one month from now\"\n",
    "- \"one year from now\"\n",
    "- \"next monday\"\n",
    "- \"until the third Thursday of the month\"\n",
    "\n",
    "A `relativedelta` is constructed of *absolute* and *relative* arguments where absolute arguments are specified with *singular* keywords (e.g. `year`, `day`) and relative arguments are specified with *plural* keywords (e.g. `years`, `days`). Be careful of confusing these, as it is a common source of bugs."
   ]
  },
  {
   "cell_type": "code",
   "execution_count": 1,
   "metadata": {},
   "outputs": [],
   "source": [
    "from datetime import datetime\n",
    "from dateutil.relativedelta import relativedelta, MO, TU, WE, TH, FR, SA, SU"
   ]
  },
  {
   "cell_type": "markdown",
   "metadata": {},
   "source": [
    "## Absolute arguments\n",
    "\n",
    "Adding *or* subtracting a `relativedelta` with absolute components is roughly equivalent to calling the `replace()` method on the `datetime` with the absolute components. If both absolute and relative components exist, the absolute components are applied first.\n",
    "\n",
    "The absolute arguments (in order of application) are: `year`, `month`, `day`, `minute`, `second`, `microsecond`.\n",
    "\n",
    "If `relativedelta` arithmetic would create an invalid date, it will fall back to the most recent valid date:"
   ]
  },
  {
   "cell_type": "code",
   "execution_count": 2,
   "metadata": {},
   "outputs": [
    {
     "data": {
      "text/plain": [
       "datetime.datetime(2015, 2, 28, 0, 0)"
      ]
     },
     "execution_count": 2,
     "metadata": {},
     "output_type": "execute_result"
    }
   ],
   "source": [
    "datetime(2015, 2, 1) + relativedelta(day=30)"
   ]
  },
  {
   "cell_type": "code",
   "execution_count": 3,
   "metadata": {},
   "outputs": [
    {
     "data": {
      "text/plain": [
       "datetime.datetime(2016, 2, 29, 0, 0)"
      ]
     },
     "execution_count": 3,
     "metadata": {},
     "output_type": "execute_result"
    }
   ],
   "source": [
    "datetime(2016, 2, 1) + relativedelta(day=30)"
   ]
  },
  {
   "cell_type": "markdown",
   "metadata": {},
   "source": [
    "### Exercise: Try out a few absolute deltas\n",
    "\n",
    "Examples:\n",
    "- March 3rd of this year\n",
    "- This date in 1951\n",
    "- Today at 12:15"
   ]
  },
  {
   "cell_type": "code",
   "execution_count": 4,
   "metadata": {},
   "outputs": [],
   "source": [
    "# As a convenience, you can use `dateutil.utils.today` to get the current day\n",
    "from dateutil.utils import today"
   ]
  },
  {
   "cell_type": "code",
   "execution_count": null,
   "metadata": {},
   "outputs": [],
   "source": []
  },
  {
   "cell_type": "code",
   "execution_count": null,
   "metadata": {},
   "outputs": [],
   "source": []
  },
  {
   "cell_type": "markdown",
   "metadata": {},
   "source": [
    "## Relative arguments\n",
    "Relative arguments represent a calendar offset from the given datetime, and is applied *after* its absolute equivalents, from largest to smallest.\n",
    "\n",
    "The relative arguments are (in order of application): `years`, `months`, `days`, `minutes`, `seconds`, `microseconds`.\n",
    "\n",
    "One thing to note is that because invalid dates fall back to valid ones, `relativedelta` arithmetic is a *lossy* operation:"
   ]
  },
  {
   "cell_type": "code",
   "execution_count": 5,
   "metadata": {},
   "outputs": [
    {
     "data": {
      "text/plain": [
       "datetime.datetime(2020, 4, 30, 0, 0)"
      ]
     },
     "execution_count": 5,
     "metadata": {},
     "output_type": "execute_result"
    }
   ],
   "source": [
    "dt = datetime(2020, 3, 31)\n",
    "dt + relativedelta(months=1)"
   ]
  },
  {
   "cell_type": "code",
   "execution_count": 6,
   "metadata": {},
   "outputs": [
    {
     "data": {
      "text/plain": [
       "datetime.datetime(2020, 5, 30, 0, 0)"
      ]
     },
     "execution_count": 6,
     "metadata": {},
     "output_type": "execute_result"
    }
   ],
   "source": [
    "(dt + relativedelta(months=1)) + relativedelta(months=1)"
   ]
  },
  {
   "cell_type": "markdown",
   "metadata": {},
   "source": [
    "To avoid this, if you want to apply multiple `relativedelta` operations to a datetime *without* loss, combine them first and then apply:"
   ]
  },
  {
   "cell_type": "code",
   "execution_count": 7,
   "metadata": {},
   "outputs": [
    {
     "data": {
      "text/plain": [
       "datetime.datetime(2020, 5, 31, 0, 0)"
      ]
     },
     "execution_count": 7,
     "metadata": {},
     "output_type": "execute_result"
    }
   ],
   "source": [
    "dt + (relativedelta(months=1) * 2)"
   ]
  },
  {
   "cell_type": "markdown",
   "metadata": {},
   "source": [
    "## Weekdays\n",
    "\n",
    "A special kind of argument is the `weekday` argument, which specifies an offset clipped to the nearest specified weekday. Like with the absolute arguments, weekdays are not affected by multiplication, and they have the same effect whether you add or subtract them:"
   ]
  },
  {
   "cell_type": "code",
   "execution_count": 8,
   "metadata": {},
   "outputs": [
    {
     "data": {
      "text/plain": [
       "datetime.datetime(1976, 1, 2, 0, 0)"
      ]
     },
     "execution_count": 8,
     "metadata": {},
     "output_type": "execute_result"
    }
   ],
   "source": [
    "datetime(1975, 12, 30) + relativedelta(weekday=FR)"
   ]
  },
  {
   "cell_type": "code",
   "execution_count": 9,
   "metadata": {},
   "outputs": [
    {
     "data": {
      "text/plain": [
       "datetime.datetime(1976, 1, 2, 0, 0)"
      ]
     },
     "execution_count": 9,
     "metadata": {},
     "output_type": "execute_result"
    }
   ],
   "source": [
    "datetime(1975, 12, 30) - relativedelta(weekday=FR)"
   ]
  },
  {
   "cell_type": "markdown",
   "metadata": {},
   "source": [
    "Unlike absolute arguments, however, they carry a direction and magnitude of their own:"
   ]
  },
  {
   "cell_type": "code",
   "execution_count": 10,
   "metadata": {},
   "outputs": [
    {
     "data": {
      "text/plain": [
       "datetime.datetime(1975, 12, 26, 0, 0)"
      ]
     },
     "execution_count": 10,
     "metadata": {},
     "output_type": "execute_result"
    }
   ],
   "source": [
    "# The first Friday on or before 1975-12-30\n",
    "datetime(1975, 12, 30) + relativedelta(weekday=FR(-1))"
   ]
  },
  {
   "cell_type": "code",
   "execution_count": 11,
   "metadata": {},
   "outputs": [
    {
     "data": {
      "text/plain": [
       "datetime.datetime(1976, 1, 9, 0, 0)"
      ]
     },
     "execution_count": 11,
     "metadata": {},
     "output_type": "execute_result"
    }
   ],
   "source": [
    "# The second Friday on or after 1975-12-30\n",
    "datetime(1975, 12, 30) + relativedelta(weekday=FR(2))"
   ]
  },
  {
   "cell_type": "markdown",
   "metadata": {},
   "source": [
    "Note that this uses a 1-based index, and the original datetime *itself* counts, so for example 1975-12-30 is a Tuesday, so both `TU(+1)` and `TU(-1)` resolve to the same datetime:"
   ]
  },
  {
   "cell_type": "code",
   "execution_count": 12,
   "metadata": {},
   "outputs": [
    {
     "data": {
      "text/plain": [
       "datetime.datetime(1975, 12, 30, 0, 0)"
      ]
     },
     "execution_count": 12,
     "metadata": {},
     "output_type": "execute_result"
    }
   ],
   "source": [
    "datetime(1975, 12, 30) + relativedelta(weekday=TU(-1))"
   ]
  },
  {
   "cell_type": "code",
   "execution_count": 13,
   "metadata": {},
   "outputs": [
    {
     "data": {
      "text/plain": [
       "datetime.datetime(1975, 12, 30, 0, 0)"
      ]
     },
     "execution_count": 13,
     "metadata": {},
     "output_type": "execute_result"
    }
   ],
   "source": [
    "datetime(1975, 12, 30) + relativedelta(weekday=TU(+1))"
   ]
  },
  {
   "cell_type": "markdown",
   "metadata": {},
   "source": [
    "### Exercise: Try out some relative and weekday deltas\n",
    "\n",
    "Examples:\n",
    "- 4 weeks from now\n",
    "- 1 month from now\n",
    "- The Wednesday *after* next Wednesday\n",
    "- Last Friday"
   ]
  },
  {
   "cell_type": "code",
   "execution_count": null,
   "metadata": {},
   "outputs": [],
   "source": []
  },
  {
   "cell_type": "code",
   "execution_count": null,
   "metadata": {},
   "outputs": [],
   "source": []
  },
  {
   "cell_type": "markdown",
   "metadata": {},
   "source": [
    "## Combinations\n",
    "\n",
    "The most interesting use of `relativedelta` is when you combine absolute and relative deltas, so for example, we can write a relativedelta that gives us the beginning of the next month by combining `months` and `day`:"
   ]
  },
  {
   "cell_type": "code",
   "execution_count": 14,
   "metadata": {},
   "outputs": [
    {
     "name": "stdout",
     "output_type": "stream",
     "text": [
      "2019-02-07 00:00:00 ---> 2019-03-01 00:00:00\n",
      "2019-03-01 00:00:00 ---> 2019-04-01 00:00:00\n",
      "2019-01-31 00:00:00 ---> 2019-02-01 00:00:00\n"
     ]
    }
   ],
   "source": [
    "next_month = relativedelta(months=1, day=1)\n",
    "\n",
    "examples = [\n",
    "    datetime(2019, 2, 7),\n",
    "    datetime(2019, 3, 1),\n",
    "    datetime(2019, 1, 31),\n",
    "]\n",
    "\n",
    "for dt in examples:\n",
    "    print(f\"{dt} ---> {dt + next_month}\")"
   ]
  },
  {
   "cell_type": "markdown",
   "metadata": {},
   "source": [
    "- As a bonus exercise, try writing a relative delta that gives you the end of the *current* month. For one way to do this, see the `rd_answers.end_of_month`."
   ]
  },
  {
   "cell_type": "code",
   "execution_count": null,
   "metadata": {},
   "outputs": [],
   "source": []
  },
  {
   "cell_type": "markdown",
   "metadata": {},
   "source": [
    "Another example of how this can be useful is that you can write a `relativedelta` that functions that express holidays that always fall on a specific day of the week. For example, in the US Mother's day is always the second Sunday in May, we can write a `relativedelta` that, when added to any date, gives Mother's day for that year:"
   ]
  },
  {
   "cell_type": "code",
   "execution_count": 15,
   "metadata": {},
   "outputs": [],
   "source": [
    "mothers_day = relativedelta(\n",
    "    month=5, day=1,     # Start at the beginning of May\n",
    "    weekday=SU(2),      # Jump go to the second Sunday on or after\n",
    ")"
   ]
  },
  {
   "cell_type": "code",
   "execution_count": 16,
   "metadata": {},
   "outputs": [
    {
     "name": "stdout",
     "output_type": "stream",
     "text": [
      "2018-05-13 00:00:00\n",
      "2019-05-12 00:00:00\n",
      "2020-05-10 00:00:00\n"
     ]
    }
   ],
   "source": [
    "for year in (2018, 2019, 2020):\n",
    "    print(datetime(year, 1, 1) + mothers_day)"
   ]
  },
  {
   "cell_type": "markdown",
   "metadata": {},
   "source": [
    "### Exercise: Implement a `tzinfo` that implements the current US DST rules\n",
    "\n",
    "In the U.S., daylight saving time starts on the second Sunday in March and ends on the first Sunday in November, with time changes taking place at 2:00 AM local time. In practice, it is unnecessary and a bad idea to implement a `tzinfo` object encoding this rules rather than using the IANA database (accessed through `dateutil.tz.gettz`) or one of the other `dateutil` time zones (such as `dateutil.tz.tzrange`). However, as a learning exercise, try using `relativedelta` to implement a `tzinfo` zone representing Eastern Time, which is:\n",
    "\n",
    "- `'EST'` with offset `-05:00` before 2 AM the second Sunday in March\n",
    "- `'EDT'` with offset `-04:00` before 2 AM the first Sunday in November\n",
    "\n",
    "**Note**: Do not bother implementing proper `fold` handling unless you finish early."
   ]
  },
  {
   "cell_type": "code",
   "execution_count": 17,
   "metadata": {},
   "outputs": [],
   "source": [
    "from datetime import timedelta, tzinfo\n",
    "\n",
    "class Eastern(tzinfo):\n",
    "    def __init__(self):\n",
    "        super().__init__()\n",
    "\n",
    "    def __repr__(self):\n",
    "        return f\"{self.__class__.__name__}()\"\n",
    "    \n",
    "    def tzname(self, dt):\n",
    "        pass\n",
    "        \n",
    "    def utcoffset(self, dt):\n",
    "        pass\n",
    "    \n",
    "    def dst(self, dt):\n",
    "        pass\n"
   ]
  },
  {
   "cell_type": "code",
   "execution_count": 18,
   "metadata": {},
   "outputs": [
    {
     "name": "stdout",
     "output_type": "stream",
     "text": [
      "2019-03-10 01:59:00-0500\n",
      "    tzname:   EST;      UTC Offset:  -5.00h;        DST:      0.0h\n",
      "2019-03-10 03:00:00-0400\n",
      "    tzname:   EDT;      UTC Offset:  -4.00h;        DST:      1.0h\n",
      "\n",
      "2019-11-03 01:59:00-0400\n",
      "    tzname:   EDT;      UTC Offset:  -4.00h;        DST:      1.0h\n",
      "2019-11-03 01:59:00-0500\n",
      "    tzname:   EST;      UTC Offset:  -5.00h;        DST:      0.0h\n",
      "2019-11-03 02:00:00-0500\n",
      "    tzname:   EST;      UTC Offset:  -5.00h;        DST:      0.0h\n"
     ]
    }
   ],
   "source": [
    "from helper_functions import print_dt_tzinfo\n",
    "from rd_answers import Eastern as _Eastern\n",
    "\n",
    "#################\n",
    "# Remove this part before testing\n",
    "Eastern = _Eastern\n",
    "#################\n",
    "\n",
    "# Tests\n",
    "print_dt_tzinfo(datetime(2019, 3, 10, 1, 59, tzinfo=Eastern()))\n",
    "print_dt_tzinfo(datetime(2019, 3, 10, 3,  0, tzinfo=Eastern()))\n",
    "print(\"\")\n",
    "print_dt_tzinfo(datetime(2019, 11, 3, 1, 59, fold=0, tzinfo=Eastern()))\n",
    "print_dt_tzinfo(datetime(2019, 11, 3, 1, 59, fold=1, tzinfo=Eastern()))\n",
    "print_dt_tzinfo(datetime(2019, 11, 3, 2,  0, tzinfo=Eastern()))"
   ]
  },
  {
   "cell_type": "code",
   "execution_count": 19,
   "metadata": {},
   "outputs": [
    {
     "data": {
      "text/plain": [
       "False"
      ]
     },
     "execution_count": 19,
     "metadata": {},
     "output_type": "execute_result"
    }
   ],
   "source": [
    "from dateutil import tz\n",
    "tz.datetime_exists(datetime(2019, 3, 10, 2, 30, tzinfo=Eastern()))  # Should be False"
   ]
  },
  {
   "cell_type": "code",
   "execution_count": 20,
   "metadata": {},
   "outputs": [
    {
     "data": {
      "text/plain": [
       "False"
      ]
     },
     "execution_count": 20,
     "metadata": {},
     "output_type": "execute_result"
    }
   ],
   "source": [
    "# Will be True if fold support is handled correctly\n",
    "tz.datetime_ambiguous(datetime(2019, 11, 3, 2, 30, tzinfo=Eastern()))"
   ]
  }
 ],
 "metadata": {
  "kernelspec": {
   "display_name": "Python 3",
   "language": "python",
   "name": "python3"
  },
  "language_info": {
   "codemirror_mode": {
    "name": "ipython",
    "version": 3
   },
   "file_extension": ".py",
   "mimetype": "text/x-python",
   "name": "python",
   "nbconvert_exporter": "python",
   "pygments_lexer": "ipython3",
   "version": "3.7.2"
  }
 },
 "nbformat": 4,
 "nbformat_minor": 2
}
