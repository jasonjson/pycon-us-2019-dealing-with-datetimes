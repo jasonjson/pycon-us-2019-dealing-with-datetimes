{
 "cells": [
  {
   "cell_type": "markdown",
   "metadata": {},
   "source": [
    "# Serializing and deserializing datetimes"
   ]
  },
  {
   "cell_type": "markdown",
   "metadata": {},
   "source": [
    "### Absolute vs. civil times\n",
    "\n",
    "One very important concept with regards to serializing and deserializing datetimes is keeping in mind the distinction between *absolute times* (timestamps) and *civil times* (datetimes or wall times). These two concepts are often overloaded in common parlance, but they have very different properties with respect to serialization and deserialization.\n",
    "\n",
    "**Absolute times** represent a specific point in time, where the time on the wall does not matter. For events in the past, such as timestamps on logs, you *usually* care about the absolute time (either for purposes of ordering or for purposes of calculating elapsed time).\n",
    "\n",
    "*Examples of when you may want an absolute time*:\n",
    "\n",
    "- Transactions and logs\n",
    "- Timing a biological process (e.g. feeding a fish)\n",
    "- Timing an chemical or astronomical process\n",
    "\n",
    "**Civil times** represent a specific time *as defined by the clock on the wall*. If, for example, you have a meeting at noon every Friday but your time zone shifts by 1 hour, you would not start holding the meeting at 11 AM because that 168 hours after the previous meeting. For events in the future you *usually* care about civil times.\n",
    "\n",
    "*Examples of when you may want to use civil times*:\n",
    "\n",
    "- Meetings\n",
    "- Work hours\n",
    "- Recurring events\n",
    "- When to feed a Gremlin"
   ]
  },
  {
   "cell_type": "markdown",
   "metadata": {},
   "source": [
    "## Serializing and deserializing timestamps as numeric offsets"
   ]
  },
  {
   "cell_type": "markdown",
   "metadata": {},
   "source": [
    "While you, as a human, are probably used to consuming your datetimes as some sort of string, like \"October 21, 2015\" or \"2015-10-21\", when dealing with *absolute* datetimes, the most natural representation is probably as an offset from some reference time, e.g. 17 hours after this process started or 250,000 seconds after the Unix epoch.\n",
    "\n",
    "Assuming you know the reference time and units of the offset (and this may be a big if), this may be the most compact and unambiguous representation of your absolute times.\n",
    "\n",
    "The most common numeric representation of time is [Unix time](https://en.wikipedia.org/wiki/Unix_time): number of seconds since the Unix epoch: 01 January 1970 00:00:00 UTC."
   ]
  },
  {
   "cell_type": "markdown",
   "metadata": {},
   "source": [
    "### Exercise: Write a function to store a message with metadata in JSON\n",
    "\n",
    "Assume you are writing a chat application that sends timestamped message in JSON. You would like to write a function that takes a \"to\" user, a \"from\" user and a message, and outputs a JSON-encoded string with the to, from, timestamp and message information, like so:\n",
    "\n",
    "```\n",
    "{\n",
    "   \"user_to\": \"cool_beans1973\",\n",
    "   \"user_from\": \"xXx_the_matrix_xXx\",\n",
    "   \"sent_epoch\": 946721730.0,\n",
    "   \"message\": \"Looks like we survived Y2K! Should we go see Deuce Bigalow on Friday?\"\n",
    "}\n",
    "```"
   ]
  },
  {
   "cell_type": "code",
   "execution_count": 1,
   "metadata": {},
   "outputs": [],
   "source": [
    "import sd_answers"
   ]
  },
  {
   "cell_type": "code",
   "execution_count": 2,
   "metadata": {},
   "outputs": [],
   "source": [
    "def encode_message(user_to: str, user_from: str, message: str) -> str:\n",
    "    \"\"\"Encode a message to be sent in JSON\"\"\"\n",
    "    return sd_answers.encode_message(user_to, user_from, message)"
   ]
  },
  {
   "cell_type": "code",
   "execution_count": 3,
   "metadata": {},
   "outputs": [
    {
     "name": "stdout",
     "output_type": "stream",
     "text": [
      "Passed!\n"
     ]
    }
   ],
   "source": [
    "### Tests\n",
    "from freezegun import freeze_time\n",
    "import json\n",
    "\n",
    "user_to = \"cool_beans1973\"\n",
    "user_from = \"xXx_the_matrix_xXx\"\n",
    "message = \"Test messageé\"\n",
    "\n",
    "with freeze_time(\"2000-01-01T05:15:30.214333-05:00\"):\n",
    "    json_str = encode_message(user_to, user_from, message)\n",
    "    \n",
    "    decoded = json.loads(json_str)\n",
    "    assert decoded[\"user_to\"] == user_to\n",
    "    assert decoded[\"user_from\"] == user_from\n",
    "    assert decoded[\"sent_epoch\"] == 946721730.214333\n",
    "    assert decoded[\"message\"] == message\n",
    "\n",
    "print(\"Passed!\")"
   ]
  },
  {
   "cell_type": "markdown",
   "metadata": {},
   "source": [
    "### Exercise: Write a function to retrieve and display the message\n",
    "\n",
    "Now we want to *deserialize* the JSON message and display it to our user in a human-readable way. Assuming the recipient is in `America/New_York`, the example from above would be displayed as:\n",
    "\n",
    "```\n",
    "(2000-01-01 05:15:30) xXx_the_matrix_xXx:\n",
    "Looks like we survived Y2K! Should we go see Deuce Bigalow on Friday?\n",
    "```\n"
   ]
  },
  {
   "cell_type": "code",
   "execution_count": 4,
   "metadata": {},
   "outputs": [],
   "source": [
    "def display_message(json_str: str) -> str:\n",
    "    \"\"\"Generate a display string for a JSON-encoded message\"\"\"\n",
    "    return sd_answers.display_message(json_str)"
   ]
  },
  {
   "cell_type": "code",
   "execution_count": 5,
   "metadata": {},
   "outputs": [
    {
     "name": "stdout",
     "output_type": "stream",
     "text": [
      "Passed!\n"
     ]
    }
   ],
   "source": [
    "### Tests\n",
    "user_to = \"cool_beans1973\"\n",
    "user_from = \"xXx_the_matrix_xXx\"\n",
    "message = \"Test messageé\"\n",
    "\n",
    "with freeze_time(\"2000-01-01T05:15:30.214333-05:00\"):\n",
    "    json_str = encode_message(user_to, user_from, message)\n",
    "    \n",
    "    display_str = display_message(json_str)\n",
    "    expected = f\"(2000-01-01 05:15:30) {user_from}\\n{message}\"\n",
    "    \n",
    "    assert display_str == expected\n",
    "\n",
    "print(\"Passed!\")"
   ]
  },
  {
   "cell_type": "markdown",
   "metadata": {},
   "source": [
    "## Serializing and deserializing timestamps as strings"
   ]
  },
  {
   "cell_type": "markdown",
   "metadata": {},
   "source": [
    "While serializing datetimes as epoch strings is a good choice for data *exclusively* interpreted by machines, or when a very compact representation is required, they are very difficult for people to read and grasp intuitively, consider the timestamp `1389552400.0` - how long ago was that?\n",
    "\n",
    "How much later is `1401595200.0`? Are these two events days apart? Weeks? Months? Years?\n",
    "\n",
    "How about `1357102800.0` and `1357707600.0`?\n",
    "\n",
    "What about about `44632400` and `444632400`? How easy would it be to spot that you've mistyped one for the other?"
   ]
  },
  {
   "cell_type": "code",
   "execution_count": 6,
   "metadata": {},
   "outputs": [],
   "source": [
    "from datetime import datetime, timezone, timedelta\n",
    "\n",
    "def print_timestamp_utc(ts):\n",
    "    print(f\"{ts:010d}: {datetime.fromtimestamp(ts, tz=timezone.utc)}\")"
   ]
  },
  {
   "cell_type": "code",
   "execution_count": 7,
   "metadata": {},
   "outputs": [
    {
     "name": "stdout",
     "output_type": "stream",
     "text": [
      "1389552400: 2014-01-12 18:46:40+00:00\n",
      "1401595200: 2014-06-01 04:00:00+00:00\n"
     ]
    }
   ],
   "source": [
    "print_timestamp_utc(1389552400)\n",
    "print_timestamp_utc(1401595200)"
   ]
  },
  {
   "cell_type": "code",
   "execution_count": 8,
   "metadata": {},
   "outputs": [
    {
     "name": "stdout",
     "output_type": "stream",
     "text": [
      "1357102800: 2013-01-02 05:00:00+00:00\n",
      "1357707600: 2013-01-09 05:00:00+00:00\n"
     ]
    }
   ],
   "source": [
    "print_timestamp_utc(1357102800)\n",
    "print_timestamp_utc(1357707600)"
   ]
  },
  {
   "cell_type": "code",
   "execution_count": 9,
   "metadata": {},
   "outputs": [
    {
     "name": "stdout",
     "output_type": "stream",
     "text": [
      "0044632400: 1971-06-01 13:53:20+00:00\n",
      "0444632400: 1984-02-03 05:00:00+00:00\n"
     ]
    }
   ],
   "source": [
    "print_timestamp_utc(44632400)\n",
    "print_timestamp_utc(444632400)"
   ]
  },
  {
   "cell_type": "markdown",
   "metadata": {},
   "source": [
    "### `isoformat`"
   ]
  },
  {
   "cell_type": "markdown",
   "metadata": {},
   "source": [
    "When serializing your timestamps, you want a string format that is:\n",
    "\n",
    "1. Unambiguous\n",
    "2. Easy to parse\n",
    "3. Ideally compact\n",
    "\n",
    "Because we are looking at *timestamps*, the best thing to do is to use a strict subset of ISO 8601, which is what is emitted when you call `isoformat()`.\n",
    "\n",
    "```python\n",
    "def datetime.isoformat(sep='T', timespec='auto') -> str:\n",
    "    ...\n",
    "```\n",
    "\n",
    "The function `isoformat` generates a (mostly) ISO 8601 compatible datetime, configurable with the `sep` parameter (which takes a single character) and the `timespec` parameter, which allows you to specify the degree of truncation, a diagram that may not be terribly useful but which I had fun drawing illustrates the formats generated by this datetime\n",
    "\n",
    "```\n",
    "YYYY─MM─DD[*HH[:MM[:SS[.fff[fff]]]][+HH:MM[:SS[.ffffff]]]]\n",
    "────┬───── ┬ ┬  ┬   ┬    ┬  ┬       ──────┬────────────\n",
    "    │      │ │  │   │    │  │         auto─truncating, only present for aware datetimes\n",
    "    │      │ │  │   │    │  └─ 'microseconds'\n",
    "    │      │ │  │   │    │\n",
    "  always   │ │  │   │    └─ 'milliseconds'\n",
    "           │ │  │   │\n",
    "     sep  ─┘ │  │   └─ 'seconds'\n",
    "             │  │\n",
    "    'hours' ─┘  └─ 'minutes'\n",
    "```\n",
    "\n",
    "`'auto'`: `'seconds'` if `microseconds` is 0 else `microseconds`"
   ]
  },
  {
   "cell_type": "markdown",
   "metadata": {},
   "source": [
    "**Examples**"
   ]
  },
  {
   "cell_type": "code",
   "execution_count": 10,
   "metadata": {},
   "outputs": [
    {
     "data": {
      "text/plain": [
       "'2020-09-07T14:27:02.123456'"
      ]
     },
     "execution_count": 10,
     "metadata": {},
     "output_type": "execute_result"
    }
   ],
   "source": [
    "datetime(2020, 9, 7, 14, 27, 2, 123456).isoformat()"
   ]
  },
  {
   "cell_type": "code",
   "execution_count": 11,
   "metadata": {},
   "outputs": [
    {
     "data": {
      "text/plain": [
       "'2020-09-07T14:27:02'"
      ]
     },
     "execution_count": 11,
     "metadata": {},
     "output_type": "execute_result"
    }
   ],
   "source": [
    "# Auto-truncates at seconds if no microseconds\n",
    "datetime(2020, 9, 7, 14, 27, 2).isoformat()"
   ]
  },
  {
   "cell_type": "code",
   "execution_count": 12,
   "metadata": {},
   "outputs": [
    {
     "data": {
      "text/plain": [
       "'2020-09-07T14:27:02.000000'"
      ]
     },
     "execution_count": 12,
     "metadata": {},
     "output_type": "execute_result"
    }
   ],
   "source": [
    "# Specify less truncation than default\n",
    "datetime(2020, 9, 7, 14, 27, 2).isoformat(timespec='microseconds')"
   ]
  },
  {
   "cell_type": "code",
   "execution_count": 13,
   "metadata": {},
   "outputs": [
    {
     "data": {
      "text/plain": [
       "'2020-09-07T14'"
      ]
     },
     "execution_count": 13,
     "metadata": {},
     "output_type": "execute_result"
    }
   ],
   "source": [
    "# Specify more truncation than default\n",
    "datetime(2020, 9, 7, 14, 27, 2, 123456).isoformat(timespec='hours')"
   ]
  },
  {
   "cell_type": "code",
   "execution_count": 14,
   "metadata": {},
   "outputs": [
    {
     "data": {
      "text/plain": [
       "'2020-09-07 14:27:02'"
      ]
     },
     "execution_count": 14,
     "metadata": {},
     "output_type": "execute_result"
    }
   ],
   "source": [
    "# Change the time separator\n",
    "datetime(2020, 9, 7, 14, 27, 2).isoformat(sep=' ')"
   ]
  },
  {
   "cell_type": "code",
   "execution_count": 15,
   "metadata": {},
   "outputs": [
    {
     "data": {
      "text/plain": [
       "'2020-09-07T14:27:02+00:00'"
      ]
     },
     "execution_count": 15,
     "metadata": {},
     "output_type": "execute_result"
    }
   ],
   "source": [
    "# An aware datetime\n",
    "datetime(2020, 9, 7, 14, 27, 2, tzinfo=timezone.utc).isoformat()"
   ]
  },
  {
   "cell_type": "code",
   "execution_count": 16,
   "metadata": {},
   "outputs": [
    {
     "data": {
      "text/plain": [
       "'2020-09-07T14:27:02-05:30'"
      ]
     },
     "execution_count": 16,
     "metadata": {},
     "output_type": "execute_result"
    }
   ],
   "source": [
    "datetime(2020, 9, 7, 14, 27, 2, tzinfo=timezone(timedelta(hours=-5, minutes=-30))).isoformat()"
   ]
  },
  {
   "cell_type": "code",
   "execution_count": 17,
   "metadata": {},
   "outputs": [
    {
     "data": {
      "text/plain": [
       "'2020-09-07T14:27:02-05:30:12'"
      ]
     },
     "execution_count": 17,
     "metadata": {},
     "output_type": "execute_result"
    }
   ],
   "source": [
    "datetime(2020, 9, 7, 14, 27, 2,\n",
    "         tzinfo=timezone(timedelta(hours=-5, minutes=-30, seconds=-12))).isoformat()"
   ]
  },
  {
   "cell_type": "markdown",
   "metadata": {},
   "source": [
    "### `fromisoformat`\n",
    "Added in Python 3.7, `fromisoformat()` is a function that will create a datetime from *any* format that `datetime.isoformat` emits. It is guaranteed that:\n",
    "\n",
    "```python\n",
    "dt == datetime.fromisoformat(dt.isoformat(*args, **kwargs))\n",
    "```\n",
    "\n",
    "for all valid `dt`, `args` and `kwargs` (though note that it may not attach the same `tzinfo` object, the `datetime`s will merely represent the same *time*.\n",
    "\n",
    "If you are using a version of Python older than Python 3.7, `dateutil.parser.isoparse` can be used to parse any valid ISO 8601 datetime (though it can also be used to parse *any* ISO 8601 datetime, not just the ones output by `isoformat`)."
   ]
  },
  {
   "cell_type": "markdown",
   "metadata": {},
   "source": [
    "### Exercise: Write a function to parse log messages\n",
    "\n",
    "Assuming your logger is configured to emit logs with the following format:\n",
    "\n",
    "```\n",
    "\"<datetime_isoformat> : <level> : <name> : <log message>\"\n",
    "```\n",
    "\n",
    "Parse the log message into a structured dictionary format with the fields `datetime`, `level`, `name` and `message`.\n",
    "\n",
    "**Examples**:\n",
    "\n",
    "```\n",
    "2019-04-18T18:46:37.211352-04:00 : DEBUG : __main__iso : This is a message\n",
    "2019-04-18T18:46:37.213751-04:00 : WARNING : __main__iso : This is a warning\n",
    "```"
   ]
  },
  {
   "cell_type": "code",
   "execution_count": 18,
   "metadata": {},
   "outputs": [],
   "source": [
    "def parse_log_line(line: str):\n",
    "    dt_str, level_str, name, message = line.split(' : ', 4)\n",
    "    dt = datetime.fromisoformat(dt_str)\n",
    "    \n",
    "    return {\n",
    "        'datetime': dt,\n",
    "        'level': level_str,\n",
    "        'name': name,\n",
    "        'message': message,\n",
    "    }"
   ]
  },
  {
   "cell_type": "code",
   "execution_count": 19,
   "metadata": {},
   "outputs": [
    {
     "data": {
      "text/plain": [
       "{'datetime': datetime.datetime(2019, 4, 18, 18, 46, 37, 211352, tzinfo=datetime.timezone(datetime.timedelta(days=-1, seconds=72000))),\n",
       " 'level': 'DEBUG',\n",
       " 'name': '__main__iso',\n",
       " 'message': 'This is a message'}"
      ]
     },
     "execution_count": 19,
     "metadata": {},
     "output_type": "execute_result"
    }
   ],
   "source": [
    "parse_log_line('2019-04-18T18:46:37.211352-04:00 : DEBUG : __main__iso : This is a message')"
   ]
  },
  {
   "cell_type": "markdown",
   "metadata": {},
   "source": [
    "### Exercise: Configure the logger to output timestamps in an ISO 8601 format"
   ]
  },
  {
   "cell_type": "markdown",
   "metadata": {},
   "source": [
    "**Bonus exercise**: Can you figure out how to set up the `logging` module to emit the format from the previous exercise? It's somewhat easy if you do not support microseconds, and stupidly difficult if you do!"
   ]
  },
  {
   "cell_type": "code",
   "execution_count": 20,
   "metadata": {},
   "outputs": [],
   "source": [
    "import logging\n",
    "logger = logging.getLogger(__name__)\n",
    "ch = logging.StreamHandler()\n",
    "logger.addHandler(ch)\n",
    "logger.setLevel(logging.DEBUG)"
   ]
  },
  {
   "cell_type": "code",
   "execution_count": 21,
   "metadata": {},
   "outputs": [],
   "source": [
    "formatter = logging.Formatter(\"{asctime} : {levelname} : {name} : {message}\",\n",
    "                              datefmt=\"%Y-%m-%dT%H:%M:%S%z\", style=\"{\")\n",
    "ch.setFormatter(formatter)"
   ]
  },
  {
   "cell_type": "code",
   "execution_count": 22,
   "metadata": {},
   "outputs": [],
   "source": [
    "from dateutil.tz import tzlocal\n",
    "\n",
    "class IsoFormatter(logging.Formatter):\n",
    "    def __init__(self, fmt=None, tzinfo=tzlocal(), style=\"%\"):\n",
    "        super().__init__(fmt=fmt, datefmt=None, style=style)\n",
    "        self._tzinfo = tzinfo\n",
    "\n",
    "    def formatTime(self, record, *args, **kwargs):\n",
    "        dt = datetime.fromtimestamp(record.created, tz=self._tzinfo)\n",
    "        \n",
    "        return dt.isoformat()"
   ]
  },
  {
   "cell_type": "code",
   "execution_count": 23,
   "metadata": {},
   "outputs": [
    {
     "name": "stderr",
     "output_type": "stream",
     "text": [
      "2019-04-18T18:54:24.768324-04:00 : DEBUG : __main__ : This is a message\n",
      "2019-04-18T18:54:24.769161-04:00 : WARNING : __main__ : This is a warning\n"
     ]
    }
   ],
   "source": [
    "formatter = IsoFormatter(\"{asctime} : {levelname} : {name} : {message}\", style=\"{\")\n",
    "ch.setFormatter(formatter)\n",
    "\n",
    "logger.debug(\"This is a message\")\n",
    "logger.warning(\"This is a warning\")"
   ]
  }
 ],
 "metadata": {
  "kernelspec": {
   "display_name": "Python 3",
   "language": "python",
   "name": "python3"
  },
  "language_info": {
   "codemirror_mode": {
    "name": "ipython",
    "version": 3
   },
   "file_extension": ".py",
   "mimetype": "text/x-python",
   "name": "python",
   "nbconvert_exporter": "python",
   "pygments_lexer": "ipython3",
   "version": "3.7.2"
  }
 },
 "nbformat": 4,
 "nbformat_minor": 2
}
