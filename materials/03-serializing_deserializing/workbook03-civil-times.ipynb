{
 "cells": [
  {
   "cell_type": "markdown",
   "metadata": {},
   "source": [
    "# Serializing and Deserializing datetimes"
   ]
  },
  {
   "cell_type": "markdown",
   "metadata": {},
   "source": [
    "## Serializing datetimes with time zones"
   ]
  },
  {
   "cell_type": "markdown",
   "metadata": {},
   "source": [
    "In the previous two workbooks, we have focused on *timestamps*, which can be safely stored as some fixed point relative to UTC, since they are fixed point in time. When working with *civil times*, however, the datetime does have a fixed mapping to absolute time, but rather has a relationship that may change over time if the rules for time zone offsets change.\n",
    "\n",
    "As such, you do **not** want to serialize your datetime as an epoch time, a time in UTC or a datetime with a fixed offset from UTC, but rather you want to store the \"wall time\" and the time zone (or more likely, some key into a lookup table of time zone rules)."
   ]
  },
  {
   "cell_type": "code",
   "execution_count": 1,
   "metadata": {},
   "outputs": [],
   "source": [
    "import sd_answers\n",
    "from sd_helpers import ChileTzInfo\n",
    "from datetime import datetime, timezone"
   ]
  },
  {
   "cell_type": "code",
   "execution_count": 2,
   "metadata": {},
   "outputs": [
    {
     "name": "stdout",
     "output_type": "stream",
     "text": [
      "2016-06-01 13:30:00-03:00\n"
     ]
    }
   ],
   "source": [
    "dt = datetime(2016, 6, 1, 13, 30, tzinfo=ChileTzInfo(access_date=datetime(2016, 3, 10)))\n",
    "print(dt)"
   ]
  },
  {
   "cell_type": "code",
   "execution_count": 3,
   "metadata": {},
   "outputs": [
    {
     "name": "stdout",
     "output_type": "stream",
     "text": [
      "2016-06-01 16:30:00+00:00\n"
     ]
    }
   ],
   "source": [
    "dt_utc = dt.astimezone(timezone.utc)\n",
    "print(dt_utc)"
   ]
  },
  {
   "cell_type": "code",
   "execution_count": 4,
   "metadata": {},
   "outputs": [
    {
     "name": "stdout",
     "output_type": "stream",
     "text": [
      "2016-06-01 12:30:00-04:00\n"
     ]
    }
   ],
   "source": [
    "dt_after = dt_utc.astimezone(ChileTzInfo(access_date=datetime(2016, 5, 24)))\n",
    "print(dt_after)"
   ]
  },
  {
   "cell_type": "markdown",
   "metadata": {},
   "source": [
    "If instead, we were to serialize this with a function that stored the thing that we *actually* care about (the wall time), and store the time zone, we would not have had this problem:"
   ]
  },
  {
   "cell_type": "code",
   "execution_count": 5,
   "metadata": {},
   "outputs": [
    {
     "name": "stdout",
     "output_type": "stream",
     "text": [
      "2016-06-01 13:30:00\n"
     ]
    }
   ],
   "source": [
    "dt_local = dt.replace(tzinfo=None)\n",
    "print(dt_local)"
   ]
  },
  {
   "cell_type": "code",
   "execution_count": 6,
   "metadata": {},
   "outputs": [
    {
     "name": "stdout",
     "output_type": "stream",
     "text": [
      "2016-06-01 13:30:00-04:00\n"
     ]
    }
   ],
   "source": [
    "dt_after = dt_local.replace(tzinfo=ChileTzInfo(access_date=datetime(2016, 5, 24)))\n",
    "print(dt_after)"
   ]
  },
  {
   "cell_type": "markdown",
   "metadata": {},
   "source": [
    "### Exercise: Write a JSON encoder and decoder hook for datetimes\n"
   ]
  },
  {
   "cell_type": "code",
   "execution_count": 7,
   "metadata": {},
   "outputs": [],
   "source": [
    "import json\n",
    "\n",
    "from dateutil import tz\n",
    "\n",
    "def get_annotated_tz(name):\n",
    "    \"\"\"\n",
    "    There is currently no supported way to get a string that can\n",
    "    be passed to `gettz` from the `tzinfo` object itself, so until\n",
    "    that is supported, hack this feature in.\n",
    "    \"\"\"\n",
    "    tzi = tz.gettz(name)\n",
    "    if tzi is not tz.UTC:\n",
    "        tzi.name = name\n",
    "\n",
    "    return tzi\n",
    "\n",
    "class DatetimeEncoder(json.JSONEncoder):\n",
    "    def default(self, obj):\n",
    "        return sd_answers.DatetimeEncoder().default(obj)"
   ]
  },
  {
   "cell_type": "code",
   "execution_count": 8,
   "metadata": {},
   "outputs": [
    {
     "name": "stdout",
     "output_type": "stream",
     "text": [
      "{\"datetime\": \"2020-01-01T00:00:00\", \"fold\": 0, \"timezone\": \"America/New_York\"}\n",
      "{\"datetime\": \"2020-01-01T00:00:00\", \"fold\": 0, \"timezone\": null}\n",
      "{\"datetime\": \"2020-01-01T14:31:11.123456\", \"fold\": 0, \"timezone\": \"UTC\"}\n",
      "{\"datetime\": \"2020-01-01T14:00:00\", \"fold\": 0, \"timezone\": \"UTC\"}\n",
      "{\"datetime\": \"2020-11-01T01:30:00\", \"fold\": 1, \"timezone\": \"America/New_York\"}\n"
     ]
    }
   ],
   "source": [
    "# Tests\n",
    "dt1 = datetime(2020, 1, 1, tzinfo=get_annotated_tz('America/New_York'))\n",
    "dt2 = datetime(2020, 1, 1)\n",
    "dt3 = datetime(2020, 1, 1, 14, 31, 11, 123456, tzinfo=get_annotated_tz('UTC'))\n",
    "dt4 = datetime(2020, 1, 1, 14, tzinfo=timezone.utc)\n",
    "dt5 = datetime(2020, 11, 1, 1, 30, fold=1, tzinfo=get_annotated_tz('America/New_York'))\n",
    "\n",
    "encoder = DatetimeEncoder()\n",
    "\n",
    "print(encoder.encode(dt1))\n",
    "print(encoder.encode(dt2))\n",
    "print(encoder.encode(dt3))\n",
    "print(encoder.encode(dt4))\n",
    "print(encoder.encode(dt5))"
   ]
  },
  {
   "cell_type": "code",
   "execution_count": 9,
   "metadata": {},
   "outputs": [],
   "source": [
    "def decode_datetime_hook(obj):\n",
    "    return sd_answers.decode_datetime_hook(obj)\n"
   ]
  },
  {
   "cell_type": "code",
   "execution_count": 10,
   "metadata": {},
   "outputs": [
    {
     "name": "stdout",
     "output_type": "stream",
     "text": [
      "Passed\n"
     ]
    }
   ],
   "source": [
    "# Tests\n",
    "decoder = json.JSONDecoder(object_hook=decode_datetime_hook)\n",
    "\n",
    "for dt in (dt1, dt2, dt3, dt4, dt5):\n",
    "    dt_rt = decoder.decode(encoder.encode(dt))\n",
    "    assert dt_rt == dt\n",
    "    \n",
    "print(\"Passed\")"
   ]
  }
 ],
 "metadata": {
  "kernelspec": {
   "display_name": "Python 3",
   "language": "python",
   "name": "python3"
  },
  "language_info": {
   "codemirror_mode": {
    "name": "ipython",
    "version": 3
   },
   "file_extension": ".py",
   "mimetype": "text/x-python",
   "name": "python",
   "nbconvert_exporter": "python",
   "pygments_lexer": "ipython3",
   "version": "3.7.2"
  }
 },
 "nbformat": 4,
 "nbformat_minor": 2
}
