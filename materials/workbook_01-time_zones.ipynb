{
 "cells": [
  {
   "cell_type": "markdown",
   "metadata": {},
   "source": [
    "# Working with Time Zones"
   ]
  },
  {
   "cell_type": "markdown",
   "metadata": {},
   "source": [
    "## Python's Time Zone Model"
   ]
  },
  {
   "cell_type": "markdown",
   "metadata": {},
   "source": [
    "The `tzinfo` class is an abstract base class, and you are required to implement three methods:\n",
    "\n",
    "```python\n",
    "class tzinfo:\n",
    "    def tzname(self, dt):\n",
    "        raise NotImplementedError()\n",
    "\n",
    "    def utcoffset(self, dt):\n",
    "        raise NotImplementedError()\n",
    "        \n",
    "    def dst(self, dt):\n",
    "        raise NotImplementedError()\n",
    "        \n",
    "    ...\n",
    "```\n",
    "\n",
    "- `tzname`: Return the name or abbreviation for the time zone at the given datetime.\n",
    "- `utcoffset`: Return a `datetime.timedelta` representing the offset from UTC at the given datetime.\n",
    "- `dst`: Return a `datetime.timedelta` representing the amount of the daylight saving time offset at a given time. *This method is rarely useful*.\n",
    "\n",
    "The reason these are *methods* rather than fixed values is that a `tzinfo` represents a mapping between a datetime and the set of rules that applies at that time in this zone. The same concrete `tzinfo` class is used for many `datetime`s."
   ]
  },
  {
   "cell_type": "markdown",
   "metadata": {},
   "source": [
    "### Example: Eastern Time"
   ]
  },
  {
   "cell_type": "code",
   "execution_count": 1,
   "metadata": {},
   "outputs": [],
   "source": [
    "from dateutil import tz\n",
    "from datetime import datetime, timedelta"
   ]
  },
  {
   "cell_type": "code",
   "execution_count": 2,
   "metadata": {},
   "outputs": [],
   "source": [
    "def print_tzinfo(dt):\n",
    "    \"\"\"Convenience function for printing the time zone information of a datetime\"\"\"\n",
    "    print(\"dt.tzname: \" + str(dt.tzname()))\n",
    "    print(\"dt.utcoffset: \" + str(dt.utcoffset() / timedelta(hours=1)) + \" hours\")\n",
    "    print(\"dt.dst: \" + str(dt.dst() / timedelta(hours=1)) + \" hours\")"
   ]
  },
  {
   "cell_type": "code",
   "execution_count": 3,
   "metadata": {},
   "outputs": [],
   "source": [
    "EASTERN = tz.gettz(\"America/New_York\")"
   ]
  },
  {
   "cell_type": "code",
   "execution_count": 4,
   "metadata": {},
   "outputs": [],
   "source": [
    "dt_std = datetime(2019, 3, 1, 12, tzinfo=EASTERN)"
   ]
  },
  {
   "cell_type": "code",
   "execution_count": 5,
   "metadata": {},
   "outputs": [
    {
     "name": "stdout",
     "output_type": "stream",
     "text": [
      "dt.tzname: EST\n",
      "dt.utcoffset: -5.0 hours\n",
      "dt.dst: 0.0 hours\n"
     ]
    }
   ],
   "source": [
    "print_tzinfo(dt_std)"
   ]
  },
  {
   "cell_type": "code",
   "execution_count": 6,
   "metadata": {},
   "outputs": [],
   "source": [
    "dt_dst = datetime(2019, 4, 1, 12, tzinfo=EASTERN)"
   ]
  },
  {
   "cell_type": "code",
   "execution_count": 7,
   "metadata": {},
   "outputs": [
    {
     "name": "stdout",
     "output_type": "stream",
     "text": [
      "dt.tzname: EDT\n",
      "dt.utcoffset: -4.0 hours\n",
      "dt.dst: 1.0 hours\n"
     ]
    }
   ],
   "source": [
    "print_tzinfo(dt_dst)"
   ]
  },
  {
   "cell_type": "markdown",
   "metadata": {},
   "source": [
    "### Exercise: Implement a UTC time zone class"
   ]
  },
  {
   "cell_type": "markdown",
   "metadata": {},
   "source": [
    "The simplest `tzinfo` classes to implement are fixed offsets from UTC and UTC itself, which have offsets that do not change as a function of `datetime`. To practice a basic tzinfo implementation, implement a class `UTC` representing the UTC time zone."
   ]
  },
  {
   "cell_type": "code",
   "execution_count": 8,
   "metadata": {},
   "outputs": [],
   "source": [
    "from datetime import tzinfo"
   ]
  },
  {
   "cell_type": "code",
   "execution_count": 9,
   "metadata": {},
   "outputs": [],
   "source": [
    "from datetime import timezone"
   ]
  },
  {
   "cell_type": "code",
   "execution_count": 10,
   "metadata": {},
   "outputs": [],
   "source": [
    "datetime(2019, 1, 1, tzinfo=timezone.utc).dst()"
   ]
  },
  {
   "cell_type": "code",
   "execution_count": 11,
   "metadata": {},
   "outputs": [],
   "source": [
    "class UTC(tzinfo):\n",
    "    def tzname(self, dt):\n",
    "        return \"UTC\"\n",
    "    \n",
    "    def utcoffset(self, dt):\n",
    "        return timedelta(0)\n",
    "    \n",
    "    def dst(self, dt):\n",
    "        return None"
   ]
  },
  {
   "cell_type": "code",
   "execution_count": 12,
   "metadata": {},
   "outputs": [],
   "source": [
    "# Tests\n",
    "test_cases = [\n",
    "    datetime(1, 1, 1),\n",
    "    datetime(1857, 2, 7),\n",
    "    datetime(1970, 1, 1),\n",
    "    datetime(2010, 3, 21, 2, 16)\n",
    "]\n",
    "\n",
    "utc = UTC()\n",
    "for dt in test_cases:\n",
    "    dt_act = dt.replace(tzinfo=utc)\n",
    "    dt_exp = dt.replace(tzinfo=timezone.utc)\n",
    "    \n",
    "    assert dt_act.tzname() == dt_exp.tzname(), f'tznames must match for {dt}'\n",
    "    assert dt_act.utcoffset() == dt_exp.utcoffset(), f'utcoffset must match for {dt}'\n",
    "    assert dt_act.dst() == dt_exp.dst(), f'dst must match for {dt}'"
   ]
  },
  {
   "cell_type": "markdown",
   "metadata": {},
   "source": [
    "## Creating and working with time-zone objects"
   ]
  },
  {
   "cell_type": "markdown",
   "metadata": {},
   "source": [
    "The standard way to create a datetime literal is to attach it to the constructor by passing it to the `tzinfo` argument of the constructor:"
   ]
  },
  {
   "cell_type": "code",
   "execution_count": 13,
   "metadata": {},
   "outputs": [
    {
     "ename": "SyntaxError",
     "evalue": "invalid syntax (helper_functions.py, line 5)",
     "output_type": "error",
     "traceback": [
      "Traceback \u001b[0;36m(most recent call last)\u001b[0m:\n",
      "  File \u001b[1;32m\"/home/nlx5/.virtualenvs/dddtut/lib/python3.7/site-packages/IPython/core/interactiveshell.py\"\u001b[0m, line \u001b[1;32m3296\u001b[0m, in \u001b[1;35mrun_code\u001b[0m\n    exec(code_obj, self.user_global_ns, self.user_ns)\n",
      "\u001b[0;36m  File \u001b[0;32m\"<ipython-input-13-b2401f3c50bc>\"\u001b[0;36m, line \u001b[0;32m1\u001b[0;36m, in \u001b[0;35m<module>\u001b[0;36m\u001b[0m\n\u001b[0;31m    from helper_functions import print_dt_tzinfo\u001b[0m\n",
      "\u001b[0;36m  File \u001b[0;32m\"/home/nlx5/Documents/Talks/2019/pycon-us-2019-dealing-with-datetimes/materials/helper_functions.py\"\u001b[0;36m, line \u001b[0;32m5\u001b[0m\n\u001b[0;31m    s1 = f'    tzname: {dt.tzname():>5};')\u001b[0m\n\u001b[0m                                         ^\u001b[0m\n\u001b[0;31mSyntaxError\u001b[0m\u001b[0;31m:\u001b[0m invalid syntax\n"
     ]
    }
   ],
   "source": [
    "from helper_functions import print_dt_tzinfo"
   ]
  },
  {
   "cell_type": "code",
   "execution_count": null,
   "metadata": {},
   "outputs": [],
   "source": [
    "dt = datetime(2017, 8, 11, 14, tzinfo=tz.gettz('America/New_York'))\n",
    "print_dt_tzinfo(dt)"
   ]
  },
  {
   "cell_type": "markdown",
   "metadata": {},
   "source": [
    "If you have a naive wall time or a wall time in another zone that you want to translate without shifting, use `datetime.replace`:"
   ]
  },
  {
   "cell_type": "code",
   "execution_count": null,
   "metadata": {},
   "outputs": [],
   "source": [
    "print_dt_tzinfo(dt.replace(tzinfo=tz.gettz('America/Los_Angeles')))"
   ]
  },
  {
   "cell_type": "markdown",
   "metadata": {},
   "source": [
    "If you have an *absolute* time, in UTC or otherwise, and you want to represent it in another timezone, use `datetime.astimezone`:"
   ]
  },
  {
   "cell_type": "code",
   "execution_count": null,
   "metadata": {},
   "outputs": [],
   "source": [
    "print_dt_tzinfo(dt.astimezone(tz.gettz('America/Los_Angeles')))"
   ]
  },
  {
   "cell_type": "code",
   "execution_count": null,
   "metadata": {},
   "outputs": [],
   "source": []
  }
 ],
 "metadata": {
  "kernelspec": {
   "display_name": "Python 3",
   "language": "python",
   "name": "python3"
  },
  "language_info": {
   "codemirror_mode": {
    "name": "ipython",
    "version": 3
   },
   "file_extension": ".py",
   "mimetype": "text/x-python",
   "name": "python",
   "nbconvert_exporter": "python",
   "pygments_lexer": "ipython3",
   "version": "3.7.2"
  }
 },
 "nbformat": 4,
 "nbformat_minor": 2
}
