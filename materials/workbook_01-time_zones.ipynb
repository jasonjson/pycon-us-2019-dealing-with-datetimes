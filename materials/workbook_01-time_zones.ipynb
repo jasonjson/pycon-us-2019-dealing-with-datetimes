{
 "cells": [
  {
   "cell_type": "markdown",
   "metadata": {},
   "source": [
    "# Working with Time Zones"
   ]
  },
  {
   "cell_type": "markdown",
   "metadata": {},
   "source": [
    "## Python's Time Zone Model"
   ]
  },
  {
   "cell_type": "markdown",
   "metadata": {},
   "source": [
    "The `tzinfo` class is an abstract base class, and you are required to implement three methods:\n",
    "\n",
    "```python\n",
    "class tzinfo:\n",
    "    def tzname(self, dt):\n",
    "        raise NotImplementedError()\n",
    "\n",
    "    def utcoffset(self, dt):\n",
    "        raise NotImplementedError()\n",
    "        \n",
    "    def dst(self, dt):\n",
    "        raise NotImplementedError()\n",
    "        \n",
    "    ...\n",
    "```\n",
    "\n",
    "- `tzname`: Return the name or abbreviation for the time zone at the given datetime.\n",
    "- `utcoffset`: Return a `datetime.timedelta` representing the offset from UTC at the given datetime.\n",
    "- `dst`: Return a `datetime.timedelta` representing the amount of the daylight saving time offset at a given time. *This method is rarely useful*.\n",
    "\n",
    "The reason these are *methods* rather than fixed values is that a `tzinfo` represents a mapping between a datetime and the set of rules that applies at that time in this zone. The same concrete `tzinfo` class is used for many `datetime`s."
   ]
  },
  {
   "cell_type": "markdown",
   "metadata": {},
   "source": [
    "### Example: Eastern Time"
   ]
  },
  {
   "cell_type": "code",
   "execution_count": 1,
   "metadata": {},
   "outputs": [],
   "source": [
    "from dateutil import tz\n",
    "from datetime import datetime, timedelta"
   ]
  },
  {
   "cell_type": "code",
   "execution_count": 2,
   "metadata": {},
   "outputs": [],
   "source": [
    "def print_tzinfo(dt):\n",
    "    \"\"\"Convenience function for printing the time zone information of a datetime\"\"\"\n",
    "    print(\"dt.tzname: \" + str(dt.tzname()))\n",
    "    print(\"dt.utcoffset: \" + str(dt.utcoffset() / timedelta(hours=1)) + \" hours\")\n",
    "    print(\"dt.dst: \" + str(dt.dst() / timedelta(hours=1)) + \" hours\")"
   ]
  },
  {
   "cell_type": "code",
   "execution_count": 3,
   "metadata": {},
   "outputs": [],
   "source": [
    "EASTERN = tz.gettz(\"America/New_York\")"
   ]
  },
  {
   "cell_type": "code",
   "execution_count": 4,
   "metadata": {},
   "outputs": [],
   "source": [
    "dt_std = datetime(2019, 3, 1, 12, tzinfo=EASTERN)"
   ]
  },
  {
   "cell_type": "code",
   "execution_count": 5,
   "metadata": {},
   "outputs": [
    {
     "name": "stdout",
     "output_type": "stream",
     "text": [
      "dt.tzname: EST\n",
      "dt.utcoffset: -5.0 hours\n",
      "dt.dst: 0.0 hours\n"
     ]
    }
   ],
   "source": [
    "print_tzinfo(dt_std)"
   ]
  },
  {
   "cell_type": "code",
   "execution_count": 6,
   "metadata": {},
   "outputs": [],
   "source": [
    "dt_dst = datetime(2019, 4, 1, 12, tzinfo=EASTERN)"
   ]
  },
  {
   "cell_type": "code",
   "execution_count": 7,
   "metadata": {},
   "outputs": [
    {
     "name": "stdout",
     "output_type": "stream",
     "text": [
      "dt.tzname: EDT\n",
      "dt.utcoffset: -4.0 hours\n",
      "dt.dst: 1.0 hours\n"
     ]
    }
   ],
   "source": [
    "print_tzinfo(dt_dst)"
   ]
  },
  {
   "cell_type": "markdown",
   "metadata": {},
   "source": [
    "### Exercise: Implement a UTC time zone class"
   ]
  },
  {
   "cell_type": "markdown",
   "metadata": {},
   "source": [
    "The simplest `tzinfo` classes to implement are fixed offsets from UTC and UTC itself, which have offsets that do not change as a function of `datetime`. To practice a basic tzinfo implementation, implement a class `UTC` representing the UTC time zone."
   ]
  },
  {
   "cell_type": "code",
   "execution_count": 8,
   "metadata": {},
   "outputs": [],
   "source": [
    "from datetime import tzinfo"
   ]
  },
  {
   "cell_type": "code",
   "execution_count": 9,
   "metadata": {},
   "outputs": [],
   "source": [
    "from datetime import timezone"
   ]
  },
  {
   "cell_type": "code",
   "execution_count": 10,
   "metadata": {},
   "outputs": [],
   "source": [
    "datetime(2019, 1, 1, tzinfo=timezone.utc).dst()"
   ]
  },
  {
   "cell_type": "code",
   "execution_count": 11,
   "metadata": {},
   "outputs": [],
   "source": [
    "class UTC(tzinfo):\n",
    "    def tzname(self, dt):\n",
    "        return \"UTC\"\n",
    "    \n",
    "    def utcoffset(self, dt):\n",
    "        return timedelta(0)\n",
    "    \n",
    "    def dst(self, dt):\n",
    "        return None"
   ]
  },
  {
   "cell_type": "code",
   "execution_count": 12,
   "metadata": {},
   "outputs": [],
   "source": [
    "# Tests\n",
    "test_cases = [\n",
    "    datetime(1, 1, 1),\n",
    "    datetime(1857, 2, 7),\n",
    "    datetime(1970, 1, 1),\n",
    "    datetime(2010, 3, 21, 2, 16)\n",
    "]\n",
    "\n",
    "utc = UTC()\n",
    "for dt in test_cases:\n",
    "    dt_act = dt.replace(tzinfo=utc)\n",
    "    dt_exp = dt.replace(tzinfo=timezone.utc)\n",
    "    \n",
    "    assert dt_act.tzname() == dt_exp.tzname(), f'tznames must match for {dt}'\n",
    "    assert dt_act.utcoffset() == dt_exp.utcoffset(), f'utcoffset must match for {dt}'\n",
    "    assert dt_act.dst() == dt_exp.dst(), f'dst must match for {dt}'"
   ]
  },
  {
   "cell_type": "markdown",
   "metadata": {},
   "source": [
    "## Creating and working with time-zone objects"
   ]
  },
  {
   "cell_type": "markdown",
   "metadata": {},
   "source": [
    "The standard way to create a datetime literal is to attach it to the constructor by passing it to the `tzinfo` argument of the constructor:"
   ]
  },
  {
   "cell_type": "code",
   "execution_count": 13,
   "metadata": {},
   "outputs": [],
   "source": [
    "from helper_functions import print_dt_tzinfo"
   ]
  },
  {
   "cell_type": "code",
   "execution_count": 14,
   "metadata": {},
   "outputs": [
    {
     "name": "stdout",
     "output_type": "stream",
     "text": [
      "2017-08-11 14:00:00-0400\n",
      "    tzname:   EDT;      UTC Offset:  -4.00h;        DST:      1.0h\n"
     ]
    }
   ],
   "source": [
    "dt = datetime(2017, 8, 11, 14, tzinfo=tz.gettz('America/New_York'))\n",
    "print_dt_tzinfo(dt)"
   ]
  },
  {
   "cell_type": "markdown",
   "metadata": {},
   "source": [
    "If you have a naive wall time or a wall time in another zone that you want to translate without shifting, use `datetime.replace`:"
   ]
  },
  {
   "cell_type": "code",
   "execution_count": 15,
   "metadata": {},
   "outputs": [
    {
     "name": "stdout",
     "output_type": "stream",
     "text": [
      "2017-08-11 14:00:00-0700\n",
      "    tzname:   PDT;      UTC Offset:  -7.00h;        DST:      1.0h\n"
     ]
    }
   ],
   "source": [
    "print_dt_tzinfo(dt.replace(tzinfo=tz.gettz('America/Los_Angeles')))"
   ]
  },
  {
   "cell_type": "markdown",
   "metadata": {},
   "source": [
    "If you have an *absolute* time, in UTC or otherwise, and you want to represent it in another timezone, use `datetime.astimezone`:"
   ]
  },
  {
   "cell_type": "code",
   "execution_count": 16,
   "metadata": {},
   "outputs": [
    {
     "name": "stdout",
     "output_type": "stream",
     "text": [
      "2017-08-11 11:00:00-0700\n",
      "    tzname:   PDT;      UTC Offset:  -7.00h;        DST:      1.0h\n"
     ]
    }
   ],
   "source": [
    "print_dt_tzinfo(dt.astimezone(tz.gettz('America/Los_Angeles')))"
   ]
  },
  {
   "cell_type": "markdown",
   "metadata": {},
   "source": [
    "### `pytz`"
   ]
  },
  {
   "cell_type": "markdown",
   "metadata": {},
   "source": [
    "In `pytz`, `datetime.astimezone()` still works as expected:"
   ]
  },
  {
   "cell_type": "code",
   "execution_count": 17,
   "metadata": {},
   "outputs": [],
   "source": [
    "import pytz"
   ]
  },
  {
   "cell_type": "code",
   "execution_count": 18,
   "metadata": {},
   "outputs": [
    {
     "name": "stdout",
     "output_type": "stream",
     "text": [
      "2017-08-11 11:00:00-0700\n",
      "    tzname:   PDT;      UTC Offset:  -7.00h;        DST:      1.0h\n"
     ]
    }
   ],
   "source": [
    "print_dt_tzinfo(dt.astimezone(pytz.timezone('America/Los_Angeles')))"
   ]
  },
  {
   "cell_type": "markdown",
   "metadata": {},
   "source": [
    "But the constructor and `.replace` methods fail horribly:"
   ]
  },
  {
   "cell_type": "code",
   "execution_count": 19,
   "metadata": {},
   "outputs": [
    {
     "name": "stdout",
     "output_type": "stream",
     "text": [
      "2017-08-11 14:00:00-0753\n",
      "    tzname:   LMT;      UTC Offset:  -7.88h;        DST:      0.0h\n"
     ]
    }
   ],
   "source": [
    "print_dt_tzinfo(dt.replace(tzinfo=pytz.timezone('America/Los_Angeles')))"
   ]
  },
  {
   "cell_type": "markdown",
   "metadata": {},
   "source": [
    "This is because `pytz` uses a different time zone model. `pytz`'s time zone model implements the `tzinfo` interface *statically*, which is to say that the `tzname`, `utcoffset` and `dst` are all calculated eagerly, when the `tzinfo` is attached to the `datetime`.\n",
    "\n",
    "In order to accomplish this, `pytz` expects all `tzinfo` objects to be attached to the `datetime` *by the time zone object itself*, using the `localize()` method:"
   ]
  },
  {
   "cell_type": "code",
   "execution_count": 20,
   "metadata": {},
   "outputs": [
    {
     "name": "stdout",
     "output_type": "stream",
     "text": [
      "2017-08-11 14:00:00-0400\n",
      "    tzname:   EDT;      UTC Offset:  -4.00h;        DST:      1.0h\n"
     ]
    }
   ],
   "source": [
    "EASTERN_p = pytz.timezone('America/New_York')\n",
    "dt_p = EASTERN_p.localize(datetime(2017, 8, 11, 14))\n",
    "print_dt_tzinfo(dt_p)"
   ]
  },
  {
   "cell_type": "markdown",
   "metadata": {},
   "source": [
    "This also means that unlike with normal `tzinfo` objects, after you've done some arithmetic on a `pytz`-aware `datetime` object, you must `normalize` it:"
   ]
  },
  {
   "cell_type": "code",
   "execution_count": 21,
   "metadata": {},
   "outputs": [
    {
     "name": "stdout",
     "output_type": "stream",
     "text": [
      "dateutil:\n",
      "2018-02-07 14:00:00-0500\n",
      "    tzname:   EST;      UTC Offset:  -5.00h;        DST:      0.0h\n",
      "\n",
      "pytz\n",
      "2018-02-07 14:00:00-0400\n",
      "    tzname:   EDT;      UTC Offset:  -4.00h;        DST:      1.0h\n"
     ]
    }
   ],
   "source": [
    "print('dateutil:')\n",
    "print_dt_tzinfo(dt + timedelta(days=180))\n",
    "print('')\n",
    "print('pytz')\n",
    "print_dt_tzinfo(dt_p + timedelta(days=180))"
   ]
  },
  {
   "cell_type": "code",
   "execution_count": 22,
   "metadata": {},
   "outputs": [
    {
     "name": "stdout",
     "output_type": "stream",
     "text": [
      "2018-02-07 13:00:00-0500\n",
      "    tzname:   EST;      UTC Offset:  -5.00h;        DST:      0.0h\n"
     ]
    }
   ],
   "source": [
    "print_dt_tzinfo(EASTERN_p.normalize(dt_p + timedelta(days=180)))"
   ]
  },
  {
   "cell_type": "markdown",
   "metadata": {},
   "source": [
    "### `datetime.now` and `datetime.fromtimestamp`"
   ]
  },
  {
   "cell_type": "markdown",
   "metadata": {},
   "source": [
    "The alternate constructors `now()` and `fromtimestamp` both take an optional argument `tz`:\n",
    "\n",
    "\n",
    "```python\n",
    "    def now(tz=None):\n",
    "        \"\"\"Get the datetime representing the current time\"\"\"\n",
    "        # ...\n",
    "\n",
    "    def fromtimestamp(self, timestamp, tz=None):\n",
    "        \"\"\" Return the datetime corresponding to a POSIX timestamp \"\"\"\n",
    "        # ...\n",
    "```\n",
    "\n",
    "If the `tz` parameter is not passed, they will return a *naïve* datetime, representing the time in your system local time."
   ]
  },
  {
   "cell_type": "code",
   "execution_count": 23,
   "metadata": {},
   "outputs": [
    {
     "data": {
      "text/plain": [
       "datetime.datetime(2020, 1, 1, 0, 0)"
      ]
     },
     "execution_count": 23,
     "metadata": {},
     "output_type": "execute_result"
    }
   ],
   "source": [
    "datetime.fromtimestamp(1577854800.0)"
   ]
  },
  {
   "cell_type": "markdown",
   "metadata": {},
   "source": [
    "If you want an *aware* timezone from a timestamp (or the current time), pass it to the `tz` parameter, and it will calculate the correct `datetime` matching that time zone. This works with both `pytz` and `dateutil.tz`:"
   ]
  },
  {
   "cell_type": "code",
   "execution_count": 24,
   "metadata": {},
   "outputs": [
    {
     "name": "stdout",
     "output_type": "stream",
     "text": [
      "pytz:\n",
      "2019-12-31 21:30:00-0500\n",
      "    tzname:   EST;      UTC Offset:  -5.00h;        DST:      0.0h\n",
      "\n",
      "dateutil:\n",
      "2019-12-31 21:30:00-0500\n",
      "    tzname:   EST;      UTC Offset:  -5.00h;        DST:      0.0h\n"
     ]
    }
   ],
   "source": [
    "print(\"pytz:\")\n",
    "print_dt_tzinfo(datetime.fromtimestamp(1577845800.0, tz=EASTERN_p))\n",
    "print(\"\")\n",
    "print(\"dateutil:\")\n",
    "print_dt_tzinfo(datetime.fromtimestamp(1577845800.0, tz=EASTERN))"
   ]
  },
  {
   "cell_type": "markdown",
   "metadata": {},
   "source": [
    "**Note**: There are also the semi-deprecated `datetime.utcnow()` and `datetime.utcfromtimestamp()` functions. These  return a *naïve* datetime expressed in UTC. It is almost always better to simply pass `tz=UTC` (where `UTC` is some time zone object), which will give you an *aware* `datetime`."
   ]
  },
  {
   "cell_type": "markdown",
   "metadata": {},
   "source": [
    "### Exercise: Current time in multiple time zones\n"
   ]
  },
  {
   "cell_type": "markdown",
   "metadata": {},
   "source": [
    "To practice using time zones, try writing a function that takes as inputs a list of IANA time zones and prints the time in each time zone.\n",
    "\n",
    "So, for example:\n",
    "\n",
    "```python\n",
    ">>> now_in_zones(['Asia/Tokyo',\n",
    "...               'Europe/Berlin',\n",
    "...               'America/New_York',\n",
    "...               'America/Los_Angeles'])\n",
    "```\n",
    "```\n",
    "Asia/Tokyo:               2020-01-01 14:00:00+09:00\n",
    "Europe/Berlin:            2020-01-01 06:00:00+01:00\n",
    "America/New_York:         2020-01-01 00:00:00-05:00\n",
    "America/Los_Angeles:      2019-12-31 21:00:00-08:00\n",
    "```"
   ]
  },
  {
   "cell_type": "code",
   "execution_count": 25,
   "metadata": {},
   "outputs": [
    {
     "name": "stdout",
     "output_type": "stream",
     "text": [
      "Asia/Tokyo:               2020-01-01 14:00:00+09:00\n",
      "Europe/Berlin:            2020-01-01 06:00:00+01:00\n",
      "America/New_York:         2020-01-01 00:00:00-05:00\n",
      "America/Los_Angeles:      2019-12-31 21:00:00-08:00\n"
     ]
    }
   ],
   "source": [
    "def now_in_zones(tz_list):\n",
    "    # For now I'll fib and pretend the current datetime is 2020\n",
    "    dt_utc = datetime(2020, 1, 1, tzinfo=tz.gettz('America/New_York'))\n",
    "    for tzstr in tz_list:\n",
    "        dt = dt_utc.astimezone(tz.gettz(tzstr))\n",
    "        print(f\"{tzstr + ':':<25} {dt}\")\n",
    "        \n",
    "now_in_zones(['Asia/Tokyo',\n",
    "              'Europe/Berlin',\n",
    "              'America/New_York',\n",
    "              'America/Los_Angeles'])\n",
    "    "
   ]
  }
 ],
 "metadata": {
  "kernelspec": {
   "display_name": "Python 3",
   "language": "python",
   "name": "python3"
  },
  "language_info": {
   "codemirror_mode": {
    "name": "ipython",
    "version": 3
   },
   "file_extension": ".py",
   "mimetype": "text/x-python",
   "name": "python",
   "nbconvert_exporter": "python",
   "pygments_lexer": "ipython3",
   "version": "3.7.2"
  }
 },
 "nbformat": 4,
 "nbformat_minor": 2
}
