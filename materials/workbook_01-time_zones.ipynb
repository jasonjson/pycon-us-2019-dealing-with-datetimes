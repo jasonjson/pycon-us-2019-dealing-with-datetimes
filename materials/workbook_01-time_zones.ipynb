{
 "cells": [
  {
   "cell_type": "markdown",
   "metadata": {},
   "source": [
    "# Working with Time Zones"
   ]
  },
  {
   "cell_type": "markdown",
   "metadata": {},
   "source": [
    "## Python's Time Zone Model"
   ]
  },
  {
   "cell_type": "markdown",
   "metadata": {},
   "source": [
    "The `tzinfo` class is an abstract base class, and you are required to implement three methods:\n",
    "\n",
    "```python\n",
    "class tzinfo:\n",
    "    def tzname(self, dt):\n",
    "        raise NotImplementedError()\n",
    "\n",
    "    def utcoffset(self, dt):\n",
    "        raise NotImplementedError()\n",
    "        \n",
    "    def dst(self, dt):\n",
    "        raise NotImplementedError()\n",
    "        \n",
    "    ...\n",
    "```\n",
    "\n",
    "- `tzname`: Return the name or abbreviation for the time zone at the given datetime.\n",
    "- `utcoffset`: Return a `datetime.timedelta` representing the offset from UTC at the given datetime.\n",
    "- `dst`: Return a `datetime.timedelta` representing the amount of the daylight saving time offset at a given time. *This method is rarely useful*.\n",
    "\n",
    "The reason these are *methods* rather than fixed values is that a `tzinfo` represents a mapping between a datetime and the set of rules that applies at that time in this zone. The same concrete `tzinfo` class is used for many `datetime`s."
   ]
  },
  {
   "cell_type": "markdown",
   "metadata": {},
   "source": [
    "### Example: Eastern Time"
   ]
  },
  {
   "cell_type": "code",
   "execution_count": 1,
   "metadata": {},
   "outputs": [],
   "source": [
    "from dateutil import tz\n",
    "from datetime import datetime, timedelta"
   ]
  },
  {
   "cell_type": "code",
   "execution_count": 2,
   "metadata": {},
   "outputs": [],
   "source": [
    "def print_tzinfo(dt):\n",
    "    \"\"\"Convenience function for printing the time zone information of a datetime\"\"\"\n",
    "    print(\"dt.tzname: \" + str(dt.tzname()))\n",
    "    print(\"dt.utcoffset: \" + str(dt.utcoffset() / timedelta(hours=1)) + \" hours\")\n",
    "    print(\"dt.dst: \" + str(dt.dst() / timedelta(hours=1)) + \" hours\")"
   ]
  },
  {
   "cell_type": "code",
   "execution_count": 3,
   "metadata": {},
   "outputs": [],
   "source": [
    "EASTERN = tz.gettz(\"America/New_York\")"
   ]
  },
  {
   "cell_type": "code",
   "execution_count": 4,
   "metadata": {},
   "outputs": [],
   "source": [
    "dt_std = datetime(2019, 3, 1, 12, tzinfo=EASTERN)"
   ]
  },
  {
   "cell_type": "code",
   "execution_count": 5,
   "metadata": {},
   "outputs": [
    {
     "name": "stdout",
     "output_type": "stream",
     "text": [
      "dt.tzname: EST\n",
      "dt.utcoffset: -5.0 hours\n",
      "dt.dst: 0.0 hours\n"
     ]
    }
   ],
   "source": [
    "print_tzinfo(dt_std)"
   ]
  },
  {
   "cell_type": "code",
   "execution_count": 6,
   "metadata": {},
   "outputs": [],
   "source": [
    "dt_dst = datetime(2019, 4, 1, 12, tzinfo=EASTERN)"
   ]
  },
  {
   "cell_type": "code",
   "execution_count": 7,
   "metadata": {},
   "outputs": [
    {
     "name": "stdout",
     "output_type": "stream",
     "text": [
      "dt.tzname: EDT\n",
      "dt.utcoffset: -4.0 hours\n",
      "dt.dst: 1.0 hours\n"
     ]
    }
   ],
   "source": [
    "print_tzinfo(dt_dst)"
   ]
  },
  {
   "cell_type": "markdown",
   "metadata": {},
   "source": [
    "### Exercise: Implement a UTC time zone class"
   ]
  },
  {
   "cell_type": "markdown",
   "metadata": {},
   "source": [
    "The simplest `tzinfo` classes to implement are fixed offsets from UTC and UTC itself, which have offsets that do not change as a function of `datetime`. To practice a basic tzinfo implementation, implement a class `UTC` representing the UTC time zone."
   ]
  },
  {
   "cell_type": "code",
   "execution_count": 8,
   "metadata": {},
   "outputs": [],
   "source": [
    "from datetime import tzinfo"
   ]
  },
  {
   "cell_type": "code",
   "execution_count": 9,
   "metadata": {},
   "outputs": [],
   "source": [
    "from datetime import timezone"
   ]
  },
  {
   "cell_type": "code",
   "execution_count": 10,
   "metadata": {},
   "outputs": [],
   "source": [
    "datetime(2019, 1, 1, tzinfo=timezone.utc).dst()"
   ]
  },
  {
   "cell_type": "code",
   "execution_count": 11,
   "metadata": {},
   "outputs": [],
   "source": [
    "class UTC(tzinfo):\n",
    "    def tzname(self, dt):\n",
    "        return \"UTC\"\n",
    "    \n",
    "    def utcoffset(self, dt):\n",
    "        return timedelta(0)\n",
    "    \n",
    "    def dst(self, dt):\n",
    "        return None"
   ]
  },
  {
   "cell_type": "code",
   "execution_count": 12,
   "metadata": {},
   "outputs": [],
   "source": [
    "# Tests\n",
    "test_cases = [\n",
    "    datetime(1, 1, 1),\n",
    "    datetime(1857, 2, 7),\n",
    "    datetime(1970, 1, 1),\n",
    "    datetime(2010, 3, 21, 2, 16)\n",
    "]\n",
    "\n",
    "utc = UTC()\n",
    "for dt in test_cases:\n",
    "    dt_act = dt.replace(tzinfo=utc)\n",
    "    dt_exp = dt.replace(tzinfo=timezone.utc)\n",
    "    \n",
    "    assert dt_act.tzname() == dt_exp.tzname(), f'tznames must match for {dt}'\n",
    "    assert dt_act.utcoffset() == dt_exp.utcoffset(), f'utcoffset must match for {dt}'\n",
    "    assert dt_act.dst() == dt_exp.dst(), f'dst must match for {dt}'"
   ]
  },
  {
   "cell_type": "markdown",
   "metadata": {},
   "source": [
    "## Creating and working with time-zone objects"
   ]
  },
  {
   "cell_type": "markdown",
   "metadata": {},
   "source": [
    "The standard way to create a datetime literal is to attach it to the constructor by passing it to the `tzinfo` argument of the constructor:"
   ]
  },
  {
   "cell_type": "code",
   "execution_count": 13,
   "metadata": {},
   "outputs": [],
   "source": [
    "from helper_functions import print_dt_tzinfo"
   ]
  },
  {
   "cell_type": "code",
   "execution_count": 14,
   "metadata": {},
   "outputs": [
    {
     "name": "stdout",
     "output_type": "stream",
     "text": [
      "2017-08-11 14:00:00-0400\n",
      "    tzname:   EDT;      UTC Offset:  -4.00h;        DST:      1.0h\n"
     ]
    }
   ],
   "source": [
    "dt = datetime(2017, 8, 11, 14, tzinfo=tz.gettz('America/New_York'))\n",
    "print_dt_tzinfo(dt)"
   ]
  },
  {
   "cell_type": "markdown",
   "metadata": {},
   "source": [
    "If you have a naive wall time or a wall time in another zone that you want to translate without shifting, use `datetime.replace`:"
   ]
  },
  {
   "cell_type": "code",
   "execution_count": 15,
   "metadata": {},
   "outputs": [
    {
     "name": "stdout",
     "output_type": "stream",
     "text": [
      "2017-08-11 14:00:00-0700\n",
      "    tzname:   PDT;      UTC Offset:  -7.00h;        DST:      1.0h\n"
     ]
    }
   ],
   "source": [
    "print_dt_tzinfo(dt.replace(tzinfo=tz.gettz('America/Los_Angeles')))"
   ]
  },
  {
   "cell_type": "markdown",
   "metadata": {},
   "source": [
    "If you have an *absolute* time, in UTC or otherwise, and you want to represent it in another timezone, use `datetime.astimezone`:"
   ]
  },
  {
   "cell_type": "code",
   "execution_count": 16,
   "metadata": {},
   "outputs": [
    {
     "name": "stdout",
     "output_type": "stream",
     "text": [
      "2017-08-11 11:00:00-0700\n",
      "    tzname:   PDT;      UTC Offset:  -7.00h;        DST:      1.0h\n"
     ]
    }
   ],
   "source": [
    "print_dt_tzinfo(dt.astimezone(tz.gettz('America/Los_Angeles')))"
   ]
  },
  {
   "cell_type": "markdown",
   "metadata": {},
   "source": [
    "### `pytz`"
   ]
  },
  {
   "cell_type": "markdown",
   "metadata": {},
   "source": [
    "In `pytz`, `datetime.astimezone()` still works as expected:"
   ]
  },
  {
   "cell_type": "code",
   "execution_count": 17,
   "metadata": {},
   "outputs": [],
   "source": [
    "import pytz"
   ]
  },
  {
   "cell_type": "code",
   "execution_count": 18,
   "metadata": {},
   "outputs": [
    {
     "name": "stdout",
     "output_type": "stream",
     "text": [
      "2017-08-11 11:00:00-0700\n",
      "    tzname:   PDT;      UTC Offset:  -7.00h;        DST:      1.0h\n"
     ]
    }
   ],
   "source": [
    "print_dt_tzinfo(dt.astimezone(pytz.timezone('America/Los_Angeles')))"
   ]
  },
  {
   "cell_type": "markdown",
   "metadata": {},
   "source": [
    "But the constructor and `.replace` methods fail horribly:"
   ]
  },
  {
   "cell_type": "code",
   "execution_count": 19,
   "metadata": {},
   "outputs": [
    {
     "name": "stdout",
     "output_type": "stream",
     "text": [
      "2017-08-11 14:00:00-0753\n",
      "    tzname:   LMT;      UTC Offset:  -7.88h;        DST:      0.0h\n"
     ]
    }
   ],
   "source": [
    "print_dt_tzinfo(dt.replace(tzinfo=pytz.timezone('America/Los_Angeles')))"
   ]
  },
  {
   "cell_type": "markdown",
   "metadata": {},
   "source": [
    "This is because `pytz` uses a different time zone model. `pytz`'s time zone model implements the `tzinfo` interface *statically*, which is to say that the `tzname`, `utcoffset` and `dst` are all calculated eagerly, when the `tzinfo` is attached to the `datetime`.\n",
    "\n",
    "In order to accomplish this, `pytz` expects all `tzinfo` objects to be attached to the `datetime` *by the time zone object itself*, using the `localize()` method:"
   ]
  },
  {
   "cell_type": "code",
   "execution_count": 20,
   "metadata": {},
   "outputs": [
    {
     "name": "stdout",
     "output_type": "stream",
     "text": [
      "2017-08-11 14:00:00-0400\n",
      "    tzname:   EDT;      UTC Offset:  -4.00h;        DST:      1.0h\n"
     ]
    }
   ],
   "source": [
    "EASTERN_p = pytz.timezone('America/New_York')\n",
    "dt_p = EASTERN_p.localize(datetime(2017, 8, 11, 14))\n",
    "print_dt_tzinfo(dt_p)"
   ]
  },
  {
   "cell_type": "markdown",
   "metadata": {},
   "source": [
    "This also means that unlike with normal `tzinfo` objects, after you've done some arithmetic on a `pytz`-aware `datetime` object, you must `normalize` it:"
   ]
  },
  {
   "cell_type": "code",
   "execution_count": 21,
   "metadata": {},
   "outputs": [
    {
     "name": "stdout",
     "output_type": "stream",
     "text": [
      "dateutil:\n",
      "2018-02-07 14:00:00-0500\n",
      "    tzname:   EST;      UTC Offset:  -5.00h;        DST:      0.0h\n",
      "\n",
      "pytz\n",
      "2018-02-07 14:00:00-0400\n",
      "    tzname:   EDT;      UTC Offset:  -4.00h;        DST:      1.0h\n"
     ]
    }
   ],
   "source": [
    "print('dateutil:')\n",
    "print_dt_tzinfo(dt + timedelta(days=180))\n",
    "print('')\n",
    "print('pytz')\n",
    "print_dt_tzinfo(dt_p + timedelta(days=180))"
   ]
  },
  {
   "cell_type": "code",
   "execution_count": 22,
   "metadata": {},
   "outputs": [
    {
     "name": "stdout",
     "output_type": "stream",
     "text": [
      "2018-02-07 13:00:00-0500\n",
      "    tzname:   EST;      UTC Offset:  -5.00h;        DST:      0.0h\n"
     ]
    }
   ],
   "source": [
    "print_dt_tzinfo(EASTERN_p.normalize(dt_p + timedelta(days=180)))"
   ]
  },
  {
   "cell_type": "markdown",
   "metadata": {},
   "source": [
    "### `datetime.now` and `datetime.fromtimestamp`"
   ]
  },
  {
   "cell_type": "markdown",
   "metadata": {},
   "source": [
    "The alternate constructors `now()` and `fromtimestamp` both take an optional argument `tz`:\n",
    "\n",
    "\n",
    "```python\n",
    "    def now(tz=None):\n",
    "        \"\"\"Get the datetime representing the current time\"\"\"\n",
    "        # ...\n",
    "\n",
    "    def fromtimestamp(self, timestamp, tz=None):\n",
    "        \"\"\" Return the datetime corresponding to a POSIX timestamp \"\"\"\n",
    "        # ...\n",
    "```\n",
    "\n",
    "If the `tz` parameter is not passed, they will return a *naïve* datetime, representing the time in your system local time."
   ]
  },
  {
   "cell_type": "code",
   "execution_count": 23,
   "metadata": {},
   "outputs": [
    {
     "data": {
      "text/plain": [
       "datetime.datetime(2020, 1, 1, 0, 0)"
      ]
     },
     "execution_count": 23,
     "metadata": {},
     "output_type": "execute_result"
    }
   ],
   "source": [
    "datetime.fromtimestamp(1577854800.0)"
   ]
  },
  {
   "cell_type": "markdown",
   "metadata": {},
   "source": [
    "If you want an *aware* timezone from a timestamp (or the current time), pass it to the `tz` parameter, and it will calculate the correct `datetime` matching that time zone. This works with both `pytz` and `dateutil.tz`:"
   ]
  },
  {
   "cell_type": "code",
   "execution_count": 24,
   "metadata": {},
   "outputs": [
    {
     "name": "stdout",
     "output_type": "stream",
     "text": [
      "pytz:\n",
      "2019-12-31 21:30:00-0500\n",
      "    tzname:   EST;      UTC Offset:  -5.00h;        DST:      0.0h\n",
      "\n",
      "dateutil:\n",
      "2019-12-31 21:30:00-0500\n",
      "    tzname:   EST;      UTC Offset:  -5.00h;        DST:      0.0h\n"
     ]
    }
   ],
   "source": [
    "print(\"pytz:\")\n",
    "print_dt_tzinfo(datetime.fromtimestamp(1577845800.0, tz=EASTERN_p))\n",
    "print(\"\")\n",
    "print(\"dateutil:\")\n",
    "print_dt_tzinfo(datetime.fromtimestamp(1577845800.0, tz=EASTERN))"
   ]
  },
  {
   "cell_type": "markdown",
   "metadata": {},
   "source": [
    "**Note**: There are also the semi-deprecated `datetime.utcnow()` and `datetime.utcfromtimestamp()` functions. These  return a *naïve* datetime expressed in UTC. It is almost always better to simply pass `tz=UTC` (where `UTC` is some time zone object), which will give you an *aware* `datetime`."
   ]
  },
  {
   "cell_type": "markdown",
   "metadata": {},
   "source": [
    "### Exercise: Current time in multiple time zones\n"
   ]
  },
  {
   "cell_type": "markdown",
   "metadata": {},
   "source": [
    "To practice using time zones, try writing a function that takes as inputs a list of IANA time zones and prints the time in each time zone.\n",
    "\n",
    "So, for example:\n",
    "\n",
    "```python\n",
    ">>> now_in_zones(['Asia/Tokyo',\n",
    "...               'Europe/Berlin',\n",
    "...               'America/New_York',\n",
    "...               'America/Los_Angeles'])\n",
    "```\n",
    "```\n",
    "Asia/Tokyo:               2020-01-01 14:00:00+09:00\n",
    "Europe/Berlin:            2020-01-01 06:00:00+01:00\n",
    "America/New_York:         2020-01-01 00:00:00-05:00\n",
    "America/Los_Angeles:      2019-12-31 21:00:00-08:00\n",
    "```"
   ]
  },
  {
   "cell_type": "code",
   "execution_count": 25,
   "metadata": {},
   "outputs": [
    {
     "name": "stdout",
     "output_type": "stream",
     "text": [
      "Asia/Tokyo:               2020-01-01 14:00:00+09:00\n",
      "Europe/Berlin:            2020-01-01 06:00:00+01:00\n",
      "America/New_York:         2020-01-01 00:00:00-05:00\n",
      "America/Los_Angeles:      2019-12-31 21:00:00-08:00\n"
     ]
    }
   ],
   "source": [
    "def now_in_zones(tz_list):\n",
    "    # For now I'll fib and pretend the current datetime is 2020\n",
    "    dt_utc = datetime(2020, 1, 1, tzinfo=tz.gettz('America/New_York'))\n",
    "    for tzstr in tz_list:\n",
    "        dt = dt_utc.astimezone(tz.gettz(tzstr))\n",
    "        print(f\"{tzstr + ':':<25} {dt}\")\n",
    "        \n",
    "now_in_zones(['Asia/Tokyo',\n",
    "              'Europe/Berlin',\n",
    "              'America/New_York',\n",
    "              'America/Los_Angeles'])\n",
    "    "
   ]
  },
  {
   "cell_type": "markdown",
   "metadata": {},
   "source": [
    "## Ambiguous and imaginary times"
   ]
  },
  {
   "cell_type": "markdown",
   "metadata": {},
   "source": [
    "### Ambiguous times\n",
    "An *ambiguous* time is when the same \"wall time\" occurs more than once, such as during a DST to STD transition."
   ]
  },
  {
   "cell_type": "code",
   "execution_count": 26,
   "metadata": {},
   "outputs": [],
   "source": [
    "NYC = tz.gettz('America/New_York')"
   ]
  },
  {
   "cell_type": "code",
   "execution_count": 27,
   "metadata": {},
   "outputs": [
    {
     "name": "stdout",
     "output_type": "stream",
     "text": [
      "2004-10-31 00:30:00-04:00 | EDT |  Unambiguous\n",
      "2004-10-31 01:30:00-04:00 | EDT |  Ambiguous\n",
      "2004-10-31 01:30:00-05:00 | EST |  Ambiguous\n",
      "2004-10-31 02:30:00-05:00 | EST |  Unambiguous\n"
     ]
    }
   ],
   "source": [
    "dt1 = datetime(2004, 10, 31, 4, 30, tzinfo=tz.UTC)\n",
    "for i in range(4):\n",
    "    dt = (dt1 + timedelta(hours=i)).astimezone(NYC)\n",
    "    ambig_str = 'Ambiguous' if tz.datetime_ambiguous(dt) else 'Unambiguous'\n",
    "    print(f'{dt} | {dt.tzname()} |  {ambig_str}')"
   ]
  },
  {
   "cell_type": "markdown",
   "metadata": {},
   "source": [
    "### [PEP 495: Local Time Disambiguation](https://www.python.org/dev/peps/pep-0495/)\n",
    "- First introduced in Python 3.6\n",
    "- Introduces the `fold` attribute of `datetime`\n",
    "- Changes aware datetime comparison around ambiguous times\n",
    "\n",
    "PEP 495 makes whether you are on the fold side a *property of the `datetime`*:"
   ]
  },
  {
   "cell_type": "code",
   "execution_count": 28,
   "metadata": {},
   "outputs": [
    {
     "name": "stdout",
     "output_type": "stream",
     "text": [
      "2004-10-31 01:30:00-0400\n",
      "    tzname:   EDT;      UTC Offset:  -4.00h;        DST:      1.0h\n",
      "\n",
      "2004-10-31 01:30:00-0500\n",
      "    tzname:   EST;      UTC Offset:  -5.00h;        DST:      0.0h\n"
     ]
    }
   ],
   "source": [
    "print_dt_tzinfo(datetime(2004, 10, 31, 1, 30, tzinfo=NYC))\n",
    "print('')\n",
    "print_dt_tzinfo(datetime(2004, 10, 31, 1, 30, fold=1, tzinfo=NYC))"
   ]
  },
  {
   "cell_type": "markdown",
   "metadata": {},
   "source": [
    "**Note**: `fold=1` represents the *second* instance of an ambiguous `datetime`."
   ]
  },
  {
   "cell_type": "markdown",
   "metadata": {},
   "source": [
    "### Imaginary times\n",
    "*Imaginary* times are wall times that never occur in a given time zone, such as during an STD to DST transition:"
   ]
  },
  {
   "cell_type": "code",
   "execution_count": 29,
   "metadata": {},
   "outputs": [
    {
     "name": "stdout",
     "output_type": "stream",
     "text": [
      "2004-04-04 01:30:00-05:00 | EST \n",
      "2004-04-04 03:30:00-04:00 | EDT \n",
      "2004-04-04 04:30:00-04:00 | EDT \n"
     ]
    }
   ],
   "source": [
    "dt1 = datetime(2004, 4, 4, 6, 30, tzinfo=tz.UTC)\n",
    "for i in range(3):\n",
    "    dt = (dt1 + timedelta(hours=i)).astimezone(NYC)\n",
    "    print(f'{dt} | {dt.tzname()} ')"
   ]
  },
  {
   "cell_type": "markdown",
   "metadata": {},
   "source": [
    "### Handling ambiguous times"
   ]
  },
  {
   "cell_type": "markdown",
   "metadata": {},
   "source": [
    "Both `dateutil` and `pytz` will automatically give you the right *absolute time* if converting from an absolute time."
   ]
  },
  {
   "cell_type": "code",
   "execution_count": 30,
   "metadata": {},
   "outputs": [],
   "source": [
    "dt1 = datetime(2004, 10, 31, 6, 30, tzinfo=tz.UTC)   # This is in the fold in EST"
   ]
  },
  {
   "cell_type": "code",
   "execution_count": 31,
   "metadata": {},
   "outputs": [
    {
     "name": "stdout",
     "output_type": "stream",
     "text": [
      "datetime.datetime(2004, 10, 31, 1, 30, fold=1, tzinfo=tzfile('/usr/share/zoneinfo/America/New_York'))\n",
      "2004-10-31 01:30:00-0500\n",
      "    tzname:   EST;      UTC Offset:  -5.00h;        DST:      0.0h\n"
     ]
    }
   ],
   "source": [
    "# dateutil\n",
    "dt_du = dt1.astimezone(tz.gettz('America/New_York'))\n",
    "print(repr(dt_du))\n",
    "print_dt_tzinfo(dt_du)"
   ]
  },
  {
   "cell_type": "code",
   "execution_count": 32,
   "metadata": {},
   "outputs": [
    {
     "name": "stdout",
     "output_type": "stream",
     "text": [
      "datetime.datetime(2004, 10, 31, 1, 30, tzinfo=<DstTzInfo 'America/New_York' EST-1 day, 19:00:00 STD>)\n",
      "2004-10-31 01:30:00-0500\n",
      "    tzname:   EST;      UTC Offset:  -5.00h;        DST:      0.0h\n"
     ]
    }
   ],
   "source": [
    "# pytz\n",
    "dt_pytz = dt1.astimezone(pytz.timezone('America/New_York'))\n",
    "print(repr(dt_pytz))    # Note that pytz doesn't set the fold attribute\n",
    "print_dt_tzinfo(dt_pytz)"
   ]
  },
  {
   "cell_type": "markdown",
   "metadata": {},
   "source": [
    "For backwards compatibility, `dateutil` provides a `tz.enfold` method to add a `fold` attribute if necessary:"
   ]
  },
  {
   "cell_type": "code",
   "execution_count": 33,
   "metadata": {},
   "outputs": [
    {
     "data": {
      "text/plain": [
       "datetime.datetime(2004, 10, 31, 1, 30, fold=1, tzinfo=tzfile('/usr/share/zoneinfo/America/New_York'))"
      ]
     },
     "execution_count": 33,
     "metadata": {},
     "output_type": "execute_result"
    }
   ],
   "source": [
    "dt = datetime(2004, 10, 31, 1, 30, tzinfo=NYC)\n",
    "tz.enfold(dt)"
   ]
  },
  {
   "cell_type": "markdown",
   "metadata": {},
   "source": [
    "```python\n",
    "Python 2.7.12\n",
    "Type \"help\", \"copyright\", \"credits\" or \"license\" for more information.\n",
    ">>> from datetime import datetime\n",
    ">>> from dateutil import tz\n",
    ">>> dt = datetime(2004, 10, 31, 1, 30, tzinfo=tz.gettz('US/Eastern'))\n",
    ">>> tz.enfold(dt)\n",
    "_DatetimeWithFold(2004, 10, 31, 1, 30, tzinfo=tzfile('/usr/share/zoneinfo/US/Eastern'))\n",
    ">>> tz.enfold(dt).tzname()\n",
    "'EST'\n",
    ">>> dt.tzname()\n",
    "'EDT'\n",
    "```"
   ]
  },
  {
   "cell_type": "markdown",
   "metadata": {},
   "source": [
    "To detect ambiguous times, `dateutil` provides `tz.datetime_ambiguous`:"
   ]
  },
  {
   "cell_type": "code",
   "execution_count": 34,
   "metadata": {},
   "outputs": [
    {
     "data": {
      "text/plain": [
       "True"
      ]
     },
     "execution_count": 34,
     "metadata": {},
     "output_type": "execute_result"
    }
   ],
   "source": [
    "tz.datetime_ambiguous(datetime(2004, 10, 31, 1, 30, tzinfo=NYC))"
   ]
  },
  {
   "cell_type": "code",
   "execution_count": 35,
   "metadata": {},
   "outputs": [
    {
     "data": {
      "text/plain": [
       "True"
      ]
     },
     "execution_count": 35,
     "metadata": {},
     "output_type": "execute_result"
    }
   ],
   "source": [
    "tz.datetime_ambiguous(datetime(2004, 10, 31, 1, 30), NYC)"
   ]
  },
  {
   "cell_type": "code",
   "execution_count": 36,
   "metadata": {},
   "outputs": [
    {
     "name": "stdout",
     "output_type": "stream",
     "text": [
      "2004-10-31 00:30:00-04:00 (fold=0)\n",
      "2004-10-31 01:30:00-05:00 (fold=1)\n",
      "2004-10-31 02:30:00-05:00 (fold=0)\n"
     ]
    }
   ],
   "source": [
    "dt_0 = datetime(2004, 10, 31, 0, 30, tzinfo=NYC)\n",
    "for i in range(3):\n",
    "    dt_i = dt_0 + timedelta(hours=i)\n",
    "    dt_i = tz.enfold(dt_i, tz.datetime_ambiguous(dt_i))\n",
    "    print(f'{dt_i} (fold={dt_i.fold})')"
   ]
  },
  {
   "cell_type": "markdown",
   "metadata": {},
   "source": [
    "**Note:** `fold` is ignored when `datetime` is not ambiguous:"
   ]
  },
  {
   "cell_type": "code",
   "execution_count": 37,
   "metadata": {},
   "outputs": [
    {
     "name": "stdout",
     "output_type": "stream",
     "text": [
      "2004-10-31 00:30:00-04:00 (fold=1)\n",
      "2004-10-31 01:30:00-05:00 (fold=1)\n",
      "2004-10-31 02:30:00-05:00 (fold=1)\n"
     ]
    }
   ],
   "source": [
    "for i in range(3):\n",
    "    dt_i = tz.enfold(dt_0 + timedelta(hours=i), fold=1)\n",
    "    print(f'{dt_i} (fold={dt_i.fold})')"
   ]
  },
  {
   "cell_type": "markdown",
   "metadata": {},
   "source": [
    "### Handling imaginary times"
   ]
  },
  {
   "cell_type": "markdown",
   "metadata": {},
   "source": [
    "While functions that convert from an *absolute time* to another absolute time (e.g. `astimezone`, `fromtimestamp` and `now`) will never create an imaginary time, it is possible to create imaginary times with functions that manipulate the naive portion of the date, such as the constructor, arithmetic and `replace`.\n",
    "\n",
    "In order to determine if you have created an imaginary time after one of these operations, you can use `dateutil`'s `tz.datetime_exists()`:"
   ]
  },
  {
   "cell_type": "code",
   "execution_count": 38,
   "metadata": {},
   "outputs": [
    {
     "name": "stdout",
     "output_type": "stream",
     "text": [
      "2004-04-04 01:30:00-05:00 (Exists)\n",
      "2004-04-04 02:30:00-04:00 (Imaginary)\n",
      "2004-04-04 03:30:00-04:00 (Exists)\n"
     ]
    }
   ],
   "source": [
    "dt_0 = datetime(2004, 4, 4, 1, 30, tzinfo=NYC)\n",
    "for i in range(3):\n",
    "    dt = dt_0 + timedelta(hours=i)\n",
    "    print(f'{dt} ({{}})'.format('Exists' if tz.datetime_exists(dt) else 'Imaginary'))"
   ]
  },
  {
   "cell_type": "markdown",
   "metadata": {},
   "source": [
    "For the most part, if you are creating imaginary times, you want to \"skip forward\", to what the time *would be* if the transition had not happened: for example, if the datetime you have created is the result of an addition operation. For this, `dateutil` provides the `tz.resolve_imaginary` function:"
   ]
  },
  {
   "cell_type": "code",
   "execution_count": 39,
   "metadata": {},
   "outputs": [
    {
     "name": "stdout",
     "output_type": "stream",
     "text": [
      "Imaginary: 2004-04-04 02:30:00-04:00\n",
      "Resolved:  2004-04-04 03:30:00-04:00\n"
     ]
    }
   ],
   "source": [
    "dt = datetime(2004, 4, 4, 1, 30, tzinfo=NYC)\n",
    "dt_imag = dt + timedelta(hours=1)   # 2004-04-04 02:30 is imaginary\n",
    "print(f\"Imaginary: {dt_imag}\")\n",
    "print(f\"Resolved:  {tz.resolve_imaginary(dt_imag)}\")"
   ]
  },
  {
   "cell_type": "markdown",
   "metadata": {},
   "source": [
    "This works for imaginary times other than 1 hour as well:"
   ]
  },
  {
   "cell_type": "code",
   "execution_count": 40,
   "metadata": {},
   "outputs": [
    {
     "name": "stdout",
     "output_type": "stream",
     "text": [
      "1994-12-31 09:00:00-10:00 (Imaginary)\n"
     ]
    }
   ],
   "source": [
    "dt = datetime(1994, 12, 31, 9, tzinfo=tz.gettz('Pacific/Kiritimati'))\n",
    "print(f'{dt} ({{}})'.format('Exists' if tz.datetime_exists(dt) else 'Imaginary'))"
   ]
  },
  {
   "cell_type": "code",
   "execution_count": 41,
   "metadata": {},
   "outputs": [
    {
     "data": {
      "text/plain": [
       "datetime.datetime(1995, 1, 1, 9, 0, tzinfo=tzfile('/usr/share/zoneinfo/Pacific/Kiritimati'))"
      ]
     },
     "execution_count": 41,
     "metadata": {},
     "output_type": "execute_result"
    }
   ],
   "source": [
    "tz.resolve_imaginary(dt)"
   ]
  },
  {
   "cell_type": "markdown",
   "metadata": {},
   "source": [
    "All of these functions for handling ambiguous and imaginary times will work for `pytz` time zones as well, though `pytz` has its own way of handling this."
   ]
  },
  {
   "cell_type": "markdown",
   "metadata": {},
   "source": [
    "### `pytz`'s approach to handling ambiguous and imaginary times\n",
    "#### Ambiguous times"
   ]
  },
  {
   "cell_type": "markdown",
   "metadata": {},
   "source": [
    "`pytz` predates PEP 495, and in many ways its design was intended to solve the ambiguous and imaginary time problem before there was support for doing so in the standard library. Much of its non-standard interface is a consequence of the fact that without eagerly calculating time zone offsets, there is no way to specify which ambiguous wall time your `datetime` represents.\n",
    "\n",
    "When localizing an ambiguous `datetime`, `pytz` will default to the *second* occurrence (i.e. the `fold=1` state, usually standard time):"
   ]
  },
  {
   "cell_type": "code",
   "execution_count": 42,
   "metadata": {},
   "outputs": [
    {
     "name": "stdout",
     "output_type": "stream",
     "text": [
      "2004-10-31 01:30:00-0500\n",
      "    tzname:   EST;      UTC Offset:  -5.00h;        DST:      0.0h\n"
     ]
    }
   ],
   "source": [
    "NYC_pytz = pytz.timezone('America/New_York')\n",
    "dt_pytz = NYC_pytz.localize(datetime(2004, 10, 31, 1, 30))\n",
    "print_dt_tzinfo(dt_pytz)"
   ]
  },
  {
   "cell_type": "markdown",
   "metadata": {},
   "source": [
    "To get the *first* occurrence of a given wall time (i.e. the `fold=0` state, usually daylight saving time), pass `is_dst=True` to the `localize` function:"
   ]
  },
  {
   "cell_type": "code",
   "execution_count": 43,
   "metadata": {},
   "outputs": [
    {
     "name": "stdout",
     "output_type": "stream",
     "text": [
      "2004-10-31 01:30:00-0400\n",
      "    tzname:   EDT;      UTC Offset:  -4.00h;        DST:      1.0h\n"
     ]
    }
   ],
   "source": [
    "dt_pytz = NYC_pytz.localize(datetime(2004, 10, 31, 1, 30), is_dst=True)\n",
    "print_dt_tzinfo(dt_pytz)"
   ]
  },
  {
   "cell_type": "markdown",
   "metadata": {},
   "source": [
    "If you want to *detect* ambiguous times, pass `is_dst=None`, and `pytz` will raise an `AmbiguousTimeError` if a datetime is ambiguous:"
   ]
  },
  {
   "cell_type": "code",
   "execution_count": 44,
   "metadata": {},
   "outputs": [
    {
     "name": "stdout",
     "output_type": "stream",
     "text": [
      "2004-10-31 00:30:00 | Unambiguous\n",
      "2004-10-31 01:30:00 | Ambiguous\n"
     ]
    }
   ],
   "source": [
    "for hour in (0, 1):\n",
    "    dt = datetime(2004, 10, 31, hour, 30)\n",
    "    try:\n",
    "        NYC_pytz.localize(dt, is_dst=None)\n",
    "        print(f'{dt} | Unambiguous')\n",
    "    except pytz.AmbiguousTimeError:\n",
    "        print(f'{dt} | Ambiguous')"
   ]
  },
  {
   "cell_type": "markdown",
   "metadata": {},
   "source": [
    "#### Imaginary times\n",
    "When using `localize` on an imaginary `datetime`, `pytz` will create an imaginary time and assign it an offset based on `is_dst`:"
   ]
  },
  {
   "cell_type": "code",
   "execution_count": 45,
   "metadata": {},
   "outputs": [
    {
     "name": "stdout",
     "output_type": "stream",
     "text": [
      "2004-04-04 02:30:00-04:00\n",
      "2004-04-04 02:30:00-05:00\n"
     ]
    }
   ],
   "source": [
    "print(NYC_pytz.localize(datetime(2004, 4, 4, 2, 30), is_dst=True))\n",
    "print(NYC_pytz.localize(datetime(2004, 4, 4, 2, 30), is_dst=False))"
   ]
  },
  {
   "cell_type": "markdown",
   "metadata": {},
   "source": [
    "The default for `is_dst` is `False`:"
   ]
  },
  {
   "cell_type": "code",
   "execution_count": 46,
   "metadata": {},
   "outputs": [
    {
     "name": "stdout",
     "output_type": "stream",
     "text": [
      "2004-04-04 02:30:00-05:00\n"
     ]
    }
   ],
   "source": [
    "print(NYC_pytz.localize(datetime(2004, 4, 4, 2, 30)))"
   ]
  },
  {
   "cell_type": "markdown",
   "metadata": {},
   "source": [
    "Again, setting `is_dst=None` will cause `pytz` to throw an error, this time `NonExistentTimeError`:"
   ]
  },
  {
   "cell_type": "code",
   "execution_count": 47,
   "metadata": {},
   "outputs": [
    {
     "name": "stdout",
     "output_type": "stream",
     "text": [
      "2004-04-04 01:30:00-05:00 (Exists)\n",
      "2004-04-04 01:30:00-05:00 (Imaginary)\n",
      "2004-04-04 03:30:00-04:00 (Exists)\n"
     ]
    }
   ],
   "source": [
    "dt_0 = datetime(2004, 4, 4, 1, 30)\n",
    "for i in range(3):\n",
    "    try:\n",
    "        dt = NYC_pytz.localize(dt_0 + timedelta(hours=i), is_dst=None)\n",
    "        exist_str = 'Exists'\n",
    "    except pytz.NonExistentTimeError:\n",
    "        exist_str = 'Imaginary'\n",
    "\n",
    "    print(f'{dt} ({exist_str})')"
   ]
  },
  {
   "cell_type": "markdown",
   "metadata": {},
   "source": [
    "### Exercise: Build a `pytz`-style exception-based localizer with `dateutil`"
   ]
  },
  {
   "cell_type": "markdown",
   "metadata": {},
   "source": [
    "While `dateutil`'s interface for handling imaginary and ambiguous times is compatible with `pytz` zones, there is no built-in mechanism to throw *exceptions* when imaginary or ambiguous times are created. As an exercise, try to build a `localize` function that throws an exception using `dateutil.tz`'s functions for handling ambiguous and imaginary datetimes."
   ]
  },
  {
   "cell_type": "code",
   "execution_count": 48,
   "metadata": {},
   "outputs": [],
   "source": [
    "class AmbiguousTimeError(Exception):\n",
    "    \"\"\"Raised if an ambiguous time is detected\"\"\"\n",
    "\n",
    "class NonExistentTimeError(Exception):\n",
    "    \"\"\"Raised if an imaginary time is detected\"\"\"\n",
    "    \n",
    "def localize(dt, tzi, is_dst=False):\n",
    "    \"\"\"\n",
    "    Mimicks `pytz`'s `localize` function using the `fold` attribute.\n",
    "    \"\"\"\n",
    "    if dt.tzinfo is not None:\n",
    "        raise ValueError('localize can only be used with naive datetimes')\n",
    "\n",
    "    if is_dst is None:\n",
    "        # If is_dst is None, we want to raise an error for uncertain situations\n",
    "        dt_out = dt.replace(tzinfo=tzi)\n",
    "        if tz.datetime_ambiguous(dt_out):\n",
    "            raise AmbiguousTimeError(f\"Ambiguous time {dt} in zone {tzi}\")\n",
    "        elif not tz.datetime_exists(dt_out):\n",
    "            raise NonExistentTimeError(f\"Time {dt} does not exist in zone {tzi}\")\n",
    "    else:\n",
    "        dt_out = dt.replace(fold=(not is_dst), tzinfo=tzi)\n",
    "\n",
    "    return dt_out"
   ]
  },
  {
   "cell_type": "code",
   "execution_count": 49,
   "metadata": {},
   "outputs": [
    {
     "name": "stdout",
     "output_type": "stream",
     "text": [
      "Passed!\n"
     ]
    }
   ],
   "source": [
    "# Tests\n",
    "from contextlib import contextmanager\n",
    "\n",
    "@contextmanager\n",
    "def assert_raises(err_type):\n",
    "    try:\n",
    "        yield\n",
    "    except err_type:\n",
    "        pass\n",
    "    else:\n",
    "        raise AssertionError(f\"Failed to raise {err_type} exception\")\n",
    "        \n",
    "def assert_dt_equal(dt1, dt2):\n",
    "    \"\"\"\n",
    "    datetime equality is a bit more complicated than it may seem when dealing\n",
    "    with ambiguous and imaginary datetimes\n",
    "    \"\"\"\n",
    "    \n",
    "    fail_msg = f\"{dt1} != {dt2}\"\n",
    "    assert dt1.astimezone(tz.UTC) == dt2.astimezone(tz.UTC), fail_msg\n",
    "    assert dt1.tzname() == dt2.tzname(), fail_msg\n",
    "    assert dt1.utcoffset() == dt2.utcoffset(), fail_msg\n",
    "    assert dt1.dst() == dt2.dst(), fail_msg\n",
    "        \n",
    "NYC = tz.gettz('America/New_York')\n",
    "with assert_raises(AmbiguousTimeError):\n",
    "    localize(datetime(2004, 10, 31, 1, 30), NYC, is_dst=None)\n",
    "    \n",
    "with assert_raises(NonExistentTimeError):\n",
    "    localize(datetime(2004, 4, 4, 2, 30), NYC, is_dst=None)\n",
    "\n",
    "with assert_raises(ValueError):\n",
    "    localize(datetime(2004, 10, 31, 1, 30, tzinfo=NYC), NYC)\n",
    "    \n",
    "assert_dt_equal(\n",
    "    localize(datetime(2004, 10, 31, 1, 30), NYC, is_dst=False),\n",
    "    datetime(2004, 10, 31, 1, 30, fold=1, tzinfo=NYC))\n",
    "\n",
    "assert_dt_equal(\n",
    "    localize(datetime(2004, 10, 31, 1, 30), NYC, is_dst=True),\n",
    "    datetime(2004, 10, 31, 1, 30, fold=0, tzinfo=NYC))\n",
    "\n",
    "print(\"Passed!\")"
   ]
  }
 ],
 "metadata": {
  "kernelspec": {
   "display_name": "Python 3",
   "language": "python",
   "name": "python3"
  },
  "language_info": {
   "codemirror_mode": {
    "name": "ipython",
    "version": 3
   },
   "file_extension": ".py",
   "mimetype": "text/x-python",
   "name": "python",
   "nbconvert_exporter": "python",
   "pygments_lexer": "ipython3",
   "version": "3.7.2"
  }
 },
 "nbformat": 4,
 "nbformat_minor": 2
}
