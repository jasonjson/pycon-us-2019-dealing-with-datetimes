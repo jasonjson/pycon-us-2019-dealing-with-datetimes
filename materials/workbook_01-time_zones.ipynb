{
 "cells": [
  {
   "cell_type": "markdown",
   "metadata": {},
   "source": [
    "# Working with Time Zones"
   ]
  },
  {
   "cell_type": "markdown",
   "metadata": {},
   "source": [
    "## Python's Time Zone Model"
   ]
  },
  {
   "cell_type": "markdown",
   "metadata": {},
   "source": [
    "The `tzinfo` class is an abstract base class, and you are required to implement three methods:\n",
    "\n",
    "```python\n",
    "class tzinfo:\n",
    "    def tzname(self, dt):\n",
    "        raise NotImplementedError()\n",
    "\n",
    "    def utcoffset(self, dt):\n",
    "        raise NotImplementedError()\n",
    "        \n",
    "    def dst(self, dt):\n",
    "        raise NotImplementedError()\n",
    "        \n",
    "    ...\n",
    "```\n",
    "\n",
    "- `tzname`: Return the name or abbreviation for the time zone at the given datetime.\n",
    "- `utcoffset`: Return a `datetime.timedelta` representing the offset from UTC at the given datetime.\n",
    "- `dst`: Return a `datetime.timedelta` representing the amount of the daylight saving time offset at a given time. *This method is rarely useful*.\n",
    "\n",
    "The reason these are *methods* rather than fixed values is that a `tzinfo` represents a mapping between a datetime and the set of rules that applies at that time in this zone. The same concrete `tzinfo` class is used for many `datetime`s."
   ]
  },
  {
   "cell_type": "markdown",
   "metadata": {},
   "source": [
    "### Example: Eastern Time"
   ]
  },
  {
   "cell_type": "code",
   "execution_count": 1,
   "metadata": {},
   "outputs": [],
   "source": [
    "from dateutil import tz\n",
    "from datetime import datetime, timedelta"
   ]
  },
  {
   "cell_type": "code",
   "execution_count": 2,
   "metadata": {},
   "outputs": [],
   "source": [
    "def print_tzinfo(dt):\n",
    "    \"\"\"Convenience function for printing the time zone information of a datetime\"\"\"\n",
    "    print(\"dt.tzname: \" + str(dt.tzname()))\n",
    "    print(\"dt.utcoffset: \" + str(dt.utcoffset() / timedelta(hours=1)) + \" hours\")\n",
    "    print(\"dt.dst: \" + str(dt.dst() / timedelta(hours=1)) + \" hours\")"
   ]
  },
  {
   "cell_type": "code",
   "execution_count": 3,
   "metadata": {},
   "outputs": [],
   "source": [
    "EASTERN = tz.gettz(\"America/New_York\")"
   ]
  },
  {
   "cell_type": "code",
   "execution_count": 4,
   "metadata": {},
   "outputs": [],
   "source": [
    "dt_std = datetime(2019, 3, 1, 12, tzinfo=EASTERN)"
   ]
  },
  {
   "cell_type": "code",
   "execution_count": 5,
   "metadata": {},
   "outputs": [
    {
     "name": "stdout",
     "output_type": "stream",
     "text": [
      "dt.tzname: EST\n",
      "dt.utcoffset: -5.0 hours\n",
      "dt.dst: 0.0 hours\n"
     ]
    }
   ],
   "source": [
    "print_tzinfo(dt_std)"
   ]
  },
  {
   "cell_type": "code",
   "execution_count": 6,
   "metadata": {},
   "outputs": [],
   "source": [
    "dt_dst = datetime(2019, 4, 1, 12, tzinfo=EASTERN)"
   ]
  },
  {
   "cell_type": "code",
   "execution_count": 7,
   "metadata": {},
   "outputs": [
    {
     "name": "stdout",
     "output_type": "stream",
     "text": [
      "dt.tzname: EDT\n",
      "dt.utcoffset: -4.0 hours\n",
      "dt.dst: 1.0 hours\n"
     ]
    }
   ],
   "source": [
    "print_tzinfo(dt_dst)"
   ]
  },
  {
   "cell_type": "markdown",
   "metadata": {},
   "source": [
    "### Exercise: Implement a UTC time zone class"
   ]
  },
  {
   "cell_type": "markdown",
   "metadata": {},
   "source": [
    "The simplest `tzinfo` classes to implement are fixed offsets from UTC and UTC itself, which have offsets that do not change as a function of `datetime`. To practice a basic tzinfo implementation, implement a class `UTC` representing the UTC time zone."
   ]
  },
  {
   "cell_type": "code",
   "execution_count": 8,
   "metadata": {},
   "outputs": [],
   "source": [
    "from datetime import tzinfo"
   ]
  },
  {
   "cell_type": "code",
   "execution_count": 9,
   "metadata": {},
   "outputs": [],
   "source": [
    "from datetime import timezone"
   ]
  },
  {
   "cell_type": "code",
   "execution_count": 10,
   "metadata": {},
   "outputs": [],
   "source": [
    "datetime(2019, 1, 1, tzinfo=timezone.utc).dst()"
   ]
  },
  {
   "cell_type": "code",
   "execution_count": 11,
   "metadata": {},
   "outputs": [],
   "source": [
    "class UTC(tzinfo):\n",
    "    def tzname(self, dt):\n",
    "        return \"UTC\"\n",
    "    \n",
    "    def utcoffset(self, dt):\n",
    "        return timedelta(0)\n",
    "    \n",
    "    def dst(self, dt):\n",
    "        return None"
   ]
  },
  {
   "cell_type": "code",
   "execution_count": 12,
   "metadata": {},
   "outputs": [],
   "source": [
    "# Tests\n",
    "test_cases = [\n",
    "    datetime(1, 1, 1),\n",
    "    datetime(1857, 2, 7),\n",
    "    datetime(1970, 1, 1),\n",
    "    datetime(2010, 3, 21, 2, 16)\n",
    "]\n",
    "\n",
    "utc = UTC()\n",
    "for dt in test_cases:\n",
    "    dt_act = dt.replace(tzinfo=utc)\n",
    "    dt_exp = dt.replace(tzinfo=timezone.utc)\n",
    "    \n",
    "    assert dt_act.tzname() == dt_exp.tzname(), f'tznames must match for {dt}'\n",
    "    assert dt_act.utcoffset() == dt_exp.utcoffset(), f'utcoffset must match for {dt}'\n",
    "    assert dt_act.dst() == dt_exp.dst(), f'dst must match for {dt}'"
   ]
  },
  {
   "cell_type": "markdown",
   "metadata": {},
   "source": [
    "## Creating and working with time-zone objects"
   ]
  },
  {
   "cell_type": "markdown",
   "metadata": {},
   "source": [
    "The standard way to create a datetime literal is to attach it to the constructor by passing it to the `tzinfo` argument of the constructor:"
   ]
  },
  {
   "cell_type": "code",
   "execution_count": 13,
   "metadata": {},
   "outputs": [],
   "source": [
    "from helper_functions import print_dt_tzinfo"
   ]
  },
  {
   "cell_type": "code",
   "execution_count": 14,
   "metadata": {},
   "outputs": [
    {
     "name": "stdout",
     "output_type": "stream",
     "text": [
      "2017-08-11 14:00:00-0400\n",
      "    tzname:   EDT;      UTC Offset:  -4.00h;        DST:      1.0h\n"
     ]
    }
   ],
   "source": [
    "dt = datetime(2017, 8, 11, 14, tzinfo=tz.gettz('America/New_York'))\n",
    "print_dt_tzinfo(dt)"
   ]
  },
  {
   "cell_type": "markdown",
   "metadata": {},
   "source": [
    "If you have a naïve wall time or a wall time in another zone that you want to translate without shifting, use `datetime.replace`:"
   ]
  },
  {
   "cell_type": "code",
   "execution_count": 15,
   "metadata": {},
   "outputs": [
    {
     "name": "stdout",
     "output_type": "stream",
     "text": [
      "2017-08-11 14:00:00-0700\n",
      "    tzname:   PDT;      UTC Offset:  -7.00h;        DST:      1.0h\n"
     ]
    }
   ],
   "source": [
    "print_dt_tzinfo(dt.replace(tzinfo=tz.gettz('America/Los_Angeles')))"
   ]
  },
  {
   "cell_type": "markdown",
   "metadata": {},
   "source": [
    "If you have an *absolute* time, in UTC or otherwise, and you want to represent it in another timezone, use `datetime.astimezone`:"
   ]
  },
  {
   "cell_type": "code",
   "execution_count": 16,
   "metadata": {},
   "outputs": [
    {
     "name": "stdout",
     "output_type": "stream",
     "text": [
      "2017-08-11 11:00:00-0700\n",
      "    tzname:   PDT;      UTC Offset:  -7.00h;        DST:      1.0h\n"
     ]
    }
   ],
   "source": [
    "print_dt_tzinfo(dt.astimezone(tz.gettz('America/Los_Angeles')))"
   ]
  },
  {
   "cell_type": "markdown",
   "metadata": {},
   "source": [
    "### `pytz`"
   ]
  },
  {
   "cell_type": "markdown",
   "metadata": {},
   "source": [
    "In `pytz`, `datetime.astimezone()` still works as expected:"
   ]
  },
  {
   "cell_type": "code",
   "execution_count": 17,
   "metadata": {},
   "outputs": [],
   "source": [
    "import pytz"
   ]
  },
  {
   "cell_type": "code",
   "execution_count": 18,
   "metadata": {},
   "outputs": [
    {
     "name": "stdout",
     "output_type": "stream",
     "text": [
      "2017-08-11 11:00:00-0700\n",
      "    tzname:   PDT;      UTC Offset:  -7.00h;        DST:      1.0h\n"
     ]
    }
   ],
   "source": [
    "print_dt_tzinfo(dt.astimezone(pytz.timezone('America/Los_Angeles')))"
   ]
  },
  {
   "cell_type": "markdown",
   "metadata": {},
   "source": [
    "But the constructor and `.replace` methods fail horribly:"
   ]
  },
  {
   "cell_type": "code",
   "execution_count": 19,
   "metadata": {},
   "outputs": [
    {
     "name": "stdout",
     "output_type": "stream",
     "text": [
      "2017-08-11 14:00:00-0753\n",
      "    tzname:   LMT;      UTC Offset:  -7.88h;        DST:      0.0h\n"
     ]
    }
   ],
   "source": [
    "print_dt_tzinfo(dt.replace(tzinfo=pytz.timezone('America/Los_Angeles')))"
   ]
  },
  {
   "cell_type": "markdown",
   "metadata": {},
   "source": [
    "This is because `pytz` uses a different time zone model. `pytz`'s time zone model implements the `tzinfo` interface *statically*, which is to say that the `tzname`, `utcoffset` and `dst` are all calculated eagerly, when the `tzinfo` is attached to the `datetime`.\n",
    "\n",
    "In order to accomplish this, `pytz` expects all `tzinfo` objects to be attached to the `datetime` *by the time zone object itself*, using the `localize()` method:"
   ]
  },
  {
   "cell_type": "code",
   "execution_count": 20,
   "metadata": {},
   "outputs": [
    {
     "name": "stdout",
     "output_type": "stream",
     "text": [
      "2017-08-11 14:00:00-0400\n",
      "    tzname:   EDT;      UTC Offset:  -4.00h;        DST:      1.0h\n"
     ]
    }
   ],
   "source": [
    "EASTERN_p = pytz.timezone('America/New_York')\n",
    "dt_p = EASTERN_p.localize(datetime(2017, 8, 11, 14))\n",
    "print_dt_tzinfo(dt_p)"
   ]
  },
  {
   "cell_type": "markdown",
   "metadata": {},
   "source": [
    "This also means that unlike with normal `tzinfo` objects, after you've done some arithmetic on a `pytz`-aware `datetime` object, you must `normalize` it:"
   ]
  },
  {
   "cell_type": "code",
   "execution_count": 21,
   "metadata": {},
   "outputs": [
    {
     "name": "stdout",
     "output_type": "stream",
     "text": [
      "dateutil:\n",
      "2018-02-07 14:00:00-0500\n",
      "    tzname:   EST;      UTC Offset:  -5.00h;        DST:      0.0h\n",
      "\n",
      "pytz\n",
      "2018-02-07 14:00:00-0400\n",
      "    tzname:   EDT;      UTC Offset:  -4.00h;        DST:      1.0h\n"
     ]
    }
   ],
   "source": [
    "print('dateutil:')\n",
    "print_dt_tzinfo(dt + timedelta(days=180))\n",
    "print('')\n",
    "print('pytz')\n",
    "print_dt_tzinfo(dt_p + timedelta(days=180))"
   ]
  },
  {
   "cell_type": "code",
   "execution_count": 22,
   "metadata": {},
   "outputs": [
    {
     "name": "stdout",
     "output_type": "stream",
     "text": [
      "2018-02-07 13:00:00-0500\n",
      "    tzname:   EST;      UTC Offset:  -5.00h;        DST:      0.0h\n"
     ]
    }
   ],
   "source": [
    "print_dt_tzinfo(EASTERN_p.normalize(dt_p + timedelta(days=180)))"
   ]
  },
  {
   "cell_type": "markdown",
   "metadata": {},
   "source": [
    "### `datetime.now` and `datetime.fromtimestamp`"
   ]
  },
  {
   "cell_type": "markdown",
   "metadata": {},
   "source": [
    "The alternate constructors `now()` and `fromtimestamp` both take an optional argument `tz`:\n",
    "\n",
    "\n",
    "```python\n",
    "    def now(tz=None):\n",
    "        \"\"\"Get the datetime representing the current time\"\"\"\n",
    "        # ...\n",
    "\n",
    "    def fromtimestamp(self, timestamp, tz=None):\n",
    "        \"\"\" Return the datetime corresponding to a POSIX timestamp \"\"\"\n",
    "        # ...\n",
    "```\n",
    "\n",
    "If the `tz` parameter is not passed, they will return a *naïve* datetime, representing the time in your system local time."
   ]
  },
  {
   "cell_type": "code",
   "execution_count": 23,
   "metadata": {},
   "outputs": [
    {
     "data": {
      "text/plain": [
       "datetime.datetime(2020, 1, 1, 0, 0)"
      ]
     },
     "execution_count": 23,
     "metadata": {},
     "output_type": "execute_result"
    }
   ],
   "source": [
    "datetime.fromtimestamp(1577854800.0)"
   ]
  },
  {
   "cell_type": "markdown",
   "metadata": {},
   "source": [
    "If you want an *aware* timezone from a timestamp (or the current time), pass it to the `tz` parameter, and it will calculate the correct `datetime` matching that time zone. This works with both `pytz` and `dateutil.tz`:"
   ]
  },
  {
   "cell_type": "code",
   "execution_count": 24,
   "metadata": {},
   "outputs": [
    {
     "name": "stdout",
     "output_type": "stream",
     "text": [
      "pytz:\n",
      "2019-12-31 21:30:00-0500\n",
      "    tzname:   EST;      UTC Offset:  -5.00h;        DST:      0.0h\n",
      "\n",
      "dateutil:\n",
      "2019-12-31 21:30:00-0500\n",
      "    tzname:   EST;      UTC Offset:  -5.00h;        DST:      0.0h\n"
     ]
    }
   ],
   "source": [
    "print(\"pytz:\")\n",
    "print_dt_tzinfo(datetime.fromtimestamp(1577845800.0, tz=EASTERN_p))\n",
    "print(\"\")\n",
    "print(\"dateutil:\")\n",
    "print_dt_tzinfo(datetime.fromtimestamp(1577845800.0, tz=EASTERN))"
   ]
  },
  {
   "cell_type": "markdown",
   "metadata": {},
   "source": [
    "**Note**: There are also the semi-deprecated `datetime.utcnow()` and `datetime.utcfromtimestamp()` functions. These  return a *naïve* datetime expressed in UTC. It is almost always better to simply pass `tz=UTC` (where `UTC` is some time zone object), which will give you an *aware* `datetime`."
   ]
  },
  {
   "cell_type": "markdown",
   "metadata": {},
   "source": [
    "### Exercise: Current time in multiple time zones\n"
   ]
  },
  {
   "cell_type": "markdown",
   "metadata": {},
   "source": [
    "To practice using time zones, try writing a function that takes as inputs a list of IANA time zones and prints the time in each time zone.\n",
    "\n",
    "So, for example:\n",
    "\n",
    "```python\n",
    ">>> now_in_zones(['Asia/Tokyo',\n",
    "...               'Europe/Berlin',\n",
    "...               'America/New_York',\n",
    "...               'America/Los_Angeles'])\n",
    "```\n",
    "```\n",
    "Asia/Tokyo:               2020-01-01 14:00:00+09:00\n",
    "Europe/Berlin:            2020-01-01 06:00:00+01:00\n",
    "America/New_York:         2020-01-01 00:00:00-05:00\n",
    "America/Los_Angeles:      2019-12-31 21:00:00-08:00\n",
    "```"
   ]
  },
  {
   "cell_type": "code",
   "execution_count": 25,
   "metadata": {},
   "outputs": [
    {
     "name": "stdout",
     "output_type": "stream",
     "text": [
      "Asia/Tokyo:               2020-01-01 14:00:00+09:00\n",
      "Europe/Berlin:            2020-01-01 06:00:00+01:00\n",
      "America/New_York:         2020-01-01 00:00:00-05:00\n",
      "America/Los_Angeles:      2019-12-31 21:00:00-08:00\n"
     ]
    }
   ],
   "source": [
    "def now_in_zones(tz_list):\n",
    "    # For now I'll fib and pretend the current datetime is 2020\n",
    "    dt_utc = datetime(2020, 1, 1, tzinfo=tz.gettz('America/New_York'))\n",
    "    for tzstr in tz_list:\n",
    "        dt = dt_utc.astimezone(tz.gettz(tzstr))\n",
    "        print(f\"{tzstr + ':':<25} {dt}\")\n",
    "        \n",
    "now_in_zones(['Asia/Tokyo',\n",
    "              'Europe/Berlin',\n",
    "              'America/New_York',\n",
    "              'America/Los_Angeles'])\n",
    "    "
   ]
  },
  {
   "cell_type": "markdown",
   "metadata": {},
   "source": [
    "## Ambiguous and imaginary times"
   ]
  },
  {
   "cell_type": "markdown",
   "metadata": {},
   "source": [
    "### Ambiguous times\n",
    "An *ambiguous* time is when the same \"wall time\" occurs more than once, such as during a DST to STD transition."
   ]
  },
  {
   "cell_type": "code",
   "execution_count": 26,
   "metadata": {},
   "outputs": [],
   "source": [
    "NYC = tz.gettz('America/New_York')"
   ]
  },
  {
   "cell_type": "code",
   "execution_count": 27,
   "metadata": {},
   "outputs": [
    {
     "name": "stdout",
     "output_type": "stream",
     "text": [
      "2004-10-31 00:30:00-04:00 | EDT |  Unambiguous\n",
      "2004-10-31 01:30:00-04:00 | EDT |  Ambiguous\n",
      "2004-10-31 01:30:00-05:00 | EST |  Ambiguous\n",
      "2004-10-31 02:30:00-05:00 | EST |  Unambiguous\n"
     ]
    }
   ],
   "source": [
    "dt1 = datetime(2004, 10, 31, 4, 30, tzinfo=tz.UTC)\n",
    "for i in range(4):\n",
    "    dt = (dt1 + timedelta(hours=i)).astimezone(NYC)\n",
    "    ambig_str = 'Ambiguous' if tz.datetime_ambiguous(dt) else 'Unambiguous'\n",
    "    print(f'{dt} | {dt.tzname()} |  {ambig_str}')"
   ]
  },
  {
   "cell_type": "markdown",
   "metadata": {},
   "source": [
    "### [PEP 495: Local Time Disambiguation](https://www.python.org/dev/peps/pep-0495/)\n",
    "- First introduced in Python 3.6\n",
    "- Introduces the `fold` attribute of `datetime`\n",
    "- Changes aware datetime comparison around ambiguous times\n",
    "\n",
    "PEP 495 makes whether you are on the fold side a *property of the `datetime`*:"
   ]
  },
  {
   "cell_type": "code",
   "execution_count": 28,
   "metadata": {},
   "outputs": [
    {
     "name": "stdout",
     "output_type": "stream",
     "text": [
      "2004-10-31 01:30:00-0400\n",
      "    tzname:   EDT;      UTC Offset:  -4.00h;        DST:      1.0h\n",
      "\n",
      "2004-10-31 01:30:00-0500\n",
      "    tzname:   EST;      UTC Offset:  -5.00h;        DST:      0.0h\n"
     ]
    }
   ],
   "source": [
    "print_dt_tzinfo(datetime(2004, 10, 31, 1, 30, tzinfo=NYC))\n",
    "print('')\n",
    "print_dt_tzinfo(datetime(2004, 10, 31, 1, 30, fold=1, tzinfo=NYC))"
   ]
  },
  {
   "cell_type": "markdown",
   "metadata": {},
   "source": [
    "**Note**: `fold=1` represents the *second* instance of an ambiguous `datetime`."
   ]
  },
  {
   "cell_type": "markdown",
   "metadata": {},
   "source": [
    "### Imaginary times\n",
    "*Imaginary* times are wall times that never occur in a given time zone, such as during an STD to DST transition:"
   ]
  },
  {
   "cell_type": "code",
   "execution_count": 29,
   "metadata": {},
   "outputs": [
    {
     "name": "stdout",
     "output_type": "stream",
     "text": [
      "2004-04-04 01:30:00-05:00 | EST \n",
      "2004-04-04 03:30:00-04:00 | EDT \n",
      "2004-04-04 04:30:00-04:00 | EDT \n"
     ]
    }
   ],
   "source": [
    "dt1 = datetime(2004, 4, 4, 6, 30, tzinfo=tz.UTC)\n",
    "for i in range(3):\n",
    "    dt = (dt1 + timedelta(hours=i)).astimezone(NYC)\n",
    "    print(f'{dt} | {dt.tzname()} ')"
   ]
  },
  {
   "cell_type": "markdown",
   "metadata": {},
   "source": [
    "### Handling ambiguous times"
   ]
  },
  {
   "cell_type": "markdown",
   "metadata": {},
   "source": [
    "Both `dateutil` and `pytz` will automatically give you the right *absolute time* if converting from an absolute time."
   ]
  },
  {
   "cell_type": "code",
   "execution_count": 30,
   "metadata": {},
   "outputs": [],
   "source": [
    "dt1 = datetime(2004, 10, 31, 6, 30, tzinfo=tz.UTC)   # This is in the fold in EST"
   ]
  },
  {
   "cell_type": "code",
   "execution_count": 31,
   "metadata": {},
   "outputs": [
    {
     "name": "stdout",
     "output_type": "stream",
     "text": [
      "datetime.datetime(2004, 10, 31, 1, 30, fold=1, tzinfo=tzfile('/usr/share/zoneinfo/America/New_York'))\n",
      "2004-10-31 01:30:00-0500\n",
      "    tzname:   EST;      UTC Offset:  -5.00h;        DST:      0.0h\n"
     ]
    }
   ],
   "source": [
    "# dateutil\n",
    "dt_du = dt1.astimezone(tz.gettz('America/New_York'))\n",
    "print(repr(dt_du))\n",
    "print_dt_tzinfo(dt_du)"
   ]
  },
  {
   "cell_type": "code",
   "execution_count": 32,
   "metadata": {},
   "outputs": [
    {
     "name": "stdout",
     "output_type": "stream",
     "text": [
      "datetime.datetime(2004, 10, 31, 1, 30, tzinfo=<DstTzInfo 'America/New_York' EST-1 day, 19:00:00 STD>)\n",
      "2004-10-31 01:30:00-0500\n",
      "    tzname:   EST;      UTC Offset:  -5.00h;        DST:      0.0h\n"
     ]
    }
   ],
   "source": [
    "# pytz\n",
    "dt_pytz = dt1.astimezone(pytz.timezone('America/New_York'))\n",
    "print(repr(dt_pytz))    # Note that pytz doesn't set the fold attribute\n",
    "print_dt_tzinfo(dt_pytz)"
   ]
  },
  {
   "cell_type": "markdown",
   "metadata": {},
   "source": [
    "For backwards compatibility, `dateutil` provides a `tz.enfold` method to add a `fold` attribute if necessary:"
   ]
  },
  {
   "cell_type": "code",
   "execution_count": 33,
   "metadata": {},
   "outputs": [
    {
     "data": {
      "text/plain": [
       "datetime.datetime(2004, 10, 31, 1, 30, fold=1, tzinfo=tzfile('/usr/share/zoneinfo/America/New_York'))"
      ]
     },
     "execution_count": 33,
     "metadata": {},
     "output_type": "execute_result"
    }
   ],
   "source": [
    "dt = datetime(2004, 10, 31, 1, 30, tzinfo=NYC)\n",
    "tz.enfold(dt)"
   ]
  },
  {
   "cell_type": "markdown",
   "metadata": {},
   "source": [
    "```python\n",
    "Python 2.7.12\n",
    "Type \"help\", \"copyright\", \"credits\" or \"license\" for more information.\n",
    ">>> from datetime import datetime\n",
    ">>> from dateutil import tz\n",
    ">>> dt = datetime(2004, 10, 31, 1, 30, tzinfo=tz.gettz('US/Eastern'))\n",
    ">>> tz.enfold(dt)\n",
    "_DatetimeWithFold(2004, 10, 31, 1, 30, tzinfo=tzfile('/usr/share/zoneinfo/US/Eastern'))\n",
    ">>> tz.enfold(dt).tzname()\n",
    "'EST'\n",
    ">>> dt.tzname()\n",
    "'EDT'\n",
    "```"
   ]
  },
  {
   "cell_type": "markdown",
   "metadata": {},
   "source": [
    "To detect ambiguous times, `dateutil` provides `tz.datetime_ambiguous`:"
   ]
  },
  {
   "cell_type": "code",
   "execution_count": 34,
   "metadata": {},
   "outputs": [
    {
     "data": {
      "text/plain": [
       "True"
      ]
     },
     "execution_count": 34,
     "metadata": {},
     "output_type": "execute_result"
    }
   ],
   "source": [
    "tz.datetime_ambiguous(datetime(2004, 10, 31, 1, 30, tzinfo=NYC))"
   ]
  },
  {
   "cell_type": "code",
   "execution_count": 35,
   "metadata": {},
   "outputs": [
    {
     "data": {
      "text/plain": [
       "True"
      ]
     },
     "execution_count": 35,
     "metadata": {},
     "output_type": "execute_result"
    }
   ],
   "source": [
    "tz.datetime_ambiguous(datetime(2004, 10, 31, 1, 30), NYC)"
   ]
  },
  {
   "cell_type": "code",
   "execution_count": 36,
   "metadata": {},
   "outputs": [
    {
     "name": "stdout",
     "output_type": "stream",
     "text": [
      "2004-10-31 00:30:00-04:00 (fold=0)\n",
      "2004-10-31 01:30:00-05:00 (fold=1)\n",
      "2004-10-31 02:30:00-05:00 (fold=0)\n"
     ]
    }
   ],
   "source": [
    "dt_0 = datetime(2004, 10, 31, 0, 30, tzinfo=NYC)\n",
    "for i in range(3):\n",
    "    dt_i = dt_0 + timedelta(hours=i)\n",
    "    dt_i = tz.enfold(dt_i, tz.datetime_ambiguous(dt_i))\n",
    "    print(f'{dt_i} (fold={dt_i.fold})')"
   ]
  },
  {
   "cell_type": "markdown",
   "metadata": {},
   "source": [
    "**Note:** `fold` is ignored when `datetime` is not ambiguous:"
   ]
  },
  {
   "cell_type": "code",
   "execution_count": 37,
   "metadata": {},
   "outputs": [
    {
     "name": "stdout",
     "output_type": "stream",
     "text": [
      "2004-10-31 00:30:00-04:00 (fold=1)\n",
      "2004-10-31 01:30:00-05:00 (fold=1)\n",
      "2004-10-31 02:30:00-05:00 (fold=1)\n"
     ]
    }
   ],
   "source": [
    "for i in range(3):\n",
    "    dt_i = tz.enfold(dt_0 + timedelta(hours=i), fold=1)\n",
    "    print(f'{dt_i} (fold={dt_i.fold})')"
   ]
  },
  {
   "cell_type": "markdown",
   "metadata": {},
   "source": [
    "### Handling imaginary times"
   ]
  },
  {
   "cell_type": "markdown",
   "metadata": {},
   "source": [
    "While functions that convert from an *absolute time* to another absolute time (e.g. `astimezone`, `fromtimestamp` and `now`) will never create an imaginary time, it is possible to create imaginary times with functions that manipulate the naïve portion of the date, such as the constructor, arithmetic and `replace`.\n",
    "\n",
    "In order to determine if you have created an imaginary time after one of these operations, you can use `dateutil`'s `tz.datetime_exists()`:"
   ]
  },
  {
   "cell_type": "code",
   "execution_count": 38,
   "metadata": {},
   "outputs": [
    {
     "name": "stdout",
     "output_type": "stream",
     "text": [
      "2004-04-04 01:30:00-05:00 (Exists)\n",
      "2004-04-04 02:30:00-04:00 (Imaginary)\n",
      "2004-04-04 03:30:00-04:00 (Exists)\n"
     ]
    }
   ],
   "source": [
    "dt_0 = datetime(2004, 4, 4, 1, 30, tzinfo=NYC)\n",
    "for i in range(3):\n",
    "    dt = dt_0 + timedelta(hours=i)\n",
    "    print(f'{dt} ({{}})'.format('Exists' if tz.datetime_exists(dt) else 'Imaginary'))"
   ]
  },
  {
   "cell_type": "markdown",
   "metadata": {},
   "source": [
    "For the most part, if you are creating imaginary times, you want to \"skip forward\", to what the time *would be* if the transition had not happened: for example, if the datetime you have created is the result of an addition operation. For this, `dateutil` provides the `tz.resolve_imaginary` function:"
   ]
  },
  {
   "cell_type": "code",
   "execution_count": 39,
   "metadata": {},
   "outputs": [
    {
     "name": "stdout",
     "output_type": "stream",
     "text": [
      "Imaginary: 2004-04-04 02:30:00-04:00\n",
      "Resolved:  2004-04-04 03:30:00-04:00\n"
     ]
    }
   ],
   "source": [
    "dt = datetime(2004, 4, 4, 1, 30, tzinfo=NYC)\n",
    "dt_imag = dt + timedelta(hours=1)   # 2004-04-04 02:30 is imaginary\n",
    "print(f\"Imaginary: {dt_imag}\")\n",
    "print(f\"Resolved:  {tz.resolve_imaginary(dt_imag)}\")"
   ]
  },
  {
   "cell_type": "markdown",
   "metadata": {},
   "source": [
    "This works for imaginary times other than 1 hour as well:"
   ]
  },
  {
   "cell_type": "code",
   "execution_count": 40,
   "metadata": {},
   "outputs": [
    {
     "name": "stdout",
     "output_type": "stream",
     "text": [
      "1994-12-31 09:00:00-10:00 (Imaginary)\n"
     ]
    }
   ],
   "source": [
    "dt = datetime(1994, 12, 31, 9, tzinfo=tz.gettz('Pacific/Kiritimati'))\n",
    "print(f'{dt} ({{}})'.format('Exists' if tz.datetime_exists(dt) else 'Imaginary'))"
   ]
  },
  {
   "cell_type": "code",
   "execution_count": 41,
   "metadata": {},
   "outputs": [
    {
     "data": {
      "text/plain": [
       "datetime.datetime(1995, 1, 1, 9, 0, tzinfo=tzfile('/usr/share/zoneinfo/Pacific/Kiritimati'))"
      ]
     },
     "execution_count": 41,
     "metadata": {},
     "output_type": "execute_result"
    }
   ],
   "source": [
    "tz.resolve_imaginary(dt)"
   ]
  },
  {
   "cell_type": "markdown",
   "metadata": {},
   "source": [
    "All of these functions for handling ambiguous and imaginary times will work for `pytz` time zones as well, though `pytz` has its own way of handling this."
   ]
  },
  {
   "cell_type": "markdown",
   "metadata": {},
   "source": [
    "### `pytz`'s approach to handling ambiguous and imaginary times\n",
    "#### Ambiguous times"
   ]
  },
  {
   "cell_type": "markdown",
   "metadata": {},
   "source": [
    "`pytz` predates PEP 495, and in many ways its design was intended to solve the ambiguous and imaginary time problem before there was support for doing so in the standard library. Much of its non-standard interface is a consequence of the fact that without eagerly calculating time zone offsets, there is no way to specify which ambiguous wall time your `datetime` represents.\n",
    "\n",
    "When localizing an ambiguous `datetime`, `pytz` will default to the *second* occurrence (i.e. the `fold=1` state, usually standard time):"
   ]
  },
  {
   "cell_type": "code",
   "execution_count": 42,
   "metadata": {},
   "outputs": [
    {
     "name": "stdout",
     "output_type": "stream",
     "text": [
      "2004-10-31 01:30:00-0500\n",
      "    tzname:   EST;      UTC Offset:  -5.00h;        DST:      0.0h\n"
     ]
    }
   ],
   "source": [
    "NYC_pytz = pytz.timezone('America/New_York')\n",
    "dt_pytz = NYC_pytz.localize(datetime(2004, 10, 31, 1, 30))\n",
    "print_dt_tzinfo(dt_pytz)"
   ]
  },
  {
   "cell_type": "markdown",
   "metadata": {},
   "source": [
    "To get the *first* occurrence of a given wall time (i.e. the `fold=0` state, usually daylight saving time), pass `is_dst=True` to the `localize` function:"
   ]
  },
  {
   "cell_type": "code",
   "execution_count": 43,
   "metadata": {},
   "outputs": [
    {
     "name": "stdout",
     "output_type": "stream",
     "text": [
      "2004-10-31 01:30:00-0400\n",
      "    tzname:   EDT;      UTC Offset:  -4.00h;        DST:      1.0h\n"
     ]
    }
   ],
   "source": [
    "dt_pytz = NYC_pytz.localize(datetime(2004, 10, 31, 1, 30), is_dst=True)\n",
    "print_dt_tzinfo(dt_pytz)"
   ]
  },
  {
   "cell_type": "markdown",
   "metadata": {},
   "source": [
    "If you want to *detect* ambiguous times, pass `is_dst=None`, and `pytz` will raise an `AmbiguousTimeError` if a datetime is ambiguous:"
   ]
  },
  {
   "cell_type": "code",
   "execution_count": 44,
   "metadata": {},
   "outputs": [
    {
     "name": "stdout",
     "output_type": "stream",
     "text": [
      "2004-10-31 00:30:00 | Unambiguous\n",
      "2004-10-31 01:30:00 | Ambiguous\n"
     ]
    }
   ],
   "source": [
    "for hour in (0, 1):\n",
    "    dt = datetime(2004, 10, 31, hour, 30)\n",
    "    try:\n",
    "        NYC_pytz.localize(dt, is_dst=None)\n",
    "        print(f'{dt} | Unambiguous')\n",
    "    except pytz.AmbiguousTimeError:\n",
    "        print(f'{dt} | Ambiguous')"
   ]
  },
  {
   "cell_type": "markdown",
   "metadata": {},
   "source": [
    "#### Imaginary times\n",
    "When using `localize` on an imaginary `datetime`, `pytz` will create an imaginary time and assign it an offset based on `is_dst`:"
   ]
  },
  {
   "cell_type": "code",
   "execution_count": 45,
   "metadata": {},
   "outputs": [
    {
     "name": "stdout",
     "output_type": "stream",
     "text": [
      "2004-04-04 02:30:00-04:00\n",
      "2004-04-04 02:30:00-05:00\n"
     ]
    }
   ],
   "source": [
    "print(NYC_pytz.localize(datetime(2004, 4, 4, 2, 30), is_dst=True))\n",
    "print(NYC_pytz.localize(datetime(2004, 4, 4, 2, 30), is_dst=False))"
   ]
  },
  {
   "cell_type": "markdown",
   "metadata": {},
   "source": [
    "The default for `is_dst` is `False`:"
   ]
  },
  {
   "cell_type": "code",
   "execution_count": 46,
   "metadata": {},
   "outputs": [
    {
     "name": "stdout",
     "output_type": "stream",
     "text": [
      "2004-04-04 02:30:00-05:00\n"
     ]
    }
   ],
   "source": [
    "print(NYC_pytz.localize(datetime(2004, 4, 4, 2, 30)))"
   ]
  },
  {
   "cell_type": "markdown",
   "metadata": {},
   "source": [
    "Again, setting `is_dst=None` will cause `pytz` to throw an error, this time `NonExistentTimeError`:"
   ]
  },
  {
   "cell_type": "code",
   "execution_count": 47,
   "metadata": {},
   "outputs": [
    {
     "name": "stdout",
     "output_type": "stream",
     "text": [
      "2004-04-04 01:30:00-05:00 (Exists)\n",
      "2004-04-04 01:30:00-05:00 (Imaginary)\n",
      "2004-04-04 03:30:00-04:00 (Exists)\n"
     ]
    }
   ],
   "source": [
    "dt_0 = datetime(2004, 4, 4, 1, 30)\n",
    "for i in range(3):\n",
    "    try:\n",
    "        dt = NYC_pytz.localize(dt_0 + timedelta(hours=i), is_dst=None)\n",
    "        exist_str = 'Exists'\n",
    "    except pytz.NonExistentTimeError:\n",
    "        exist_str = 'Imaginary'\n",
    "\n",
    "    print(f'{dt} ({exist_str})')"
   ]
  },
  {
   "cell_type": "markdown",
   "metadata": {},
   "source": [
    "### Exercise: Build a `pytz`-style exception-based localizer with `dateutil`"
   ]
  },
  {
   "cell_type": "markdown",
   "metadata": {},
   "source": [
    "While `dateutil`'s interface for handling imaginary and ambiguous times is compatible with `pytz` zones, there is no built-in mechanism to throw *exceptions* when imaginary or ambiguous times are created. As an exercise, try to build a `localize` function that throws an exception using `dateutil.tz`'s functions for handling ambiguous and imaginary datetimes."
   ]
  },
  {
   "cell_type": "code",
   "execution_count": 48,
   "metadata": {},
   "outputs": [],
   "source": [
    "class AmbiguousTimeError(Exception):\n",
    "    \"\"\"Raised if an ambiguous time is detected\"\"\"\n",
    "\n",
    "class NonExistentTimeError(Exception):\n",
    "    \"\"\"Raised if an imaginary time is detected\"\"\"\n",
    "    \n",
    "def localize(dt, tzi, is_dst=False):\n",
    "    \"\"\"\n",
    "    Mimicks `pytz`'s `localize` function using the `fold` attribute.\n",
    "    \"\"\"\n",
    "    if dt.tzinfo is not None:\n",
    "        raise ValueError('localize can only be used with naive datetimes')\n",
    "\n",
    "    if is_dst is None:\n",
    "        # If is_dst is None, we want to raise an error for uncertain situations\n",
    "        dt_out = dt.replace(tzinfo=tzi)\n",
    "        if tz.datetime_ambiguous(dt_out):\n",
    "            raise AmbiguousTimeError(f\"Ambiguous time {dt} in zone {tzi}\")\n",
    "        elif not tz.datetime_exists(dt_out):\n",
    "            raise NonExistentTimeError(f\"Time {dt} does not exist in zone {tzi}\")\n",
    "    else:\n",
    "        dt_out = dt.replace(fold=(not is_dst), tzinfo=tzi)\n",
    "\n",
    "    return dt_out"
   ]
  },
  {
   "cell_type": "code",
   "execution_count": 49,
   "metadata": {},
   "outputs": [
    {
     "name": "stdout",
     "output_type": "stream",
     "text": [
      "Passed!\n"
     ]
    }
   ],
   "source": [
    "# Tests\n",
    "from contextlib import contextmanager\n",
    "\n",
    "@contextmanager\n",
    "def assert_raises(err_type):\n",
    "    try:\n",
    "        yield\n",
    "    except err_type:\n",
    "        pass\n",
    "    else:\n",
    "        raise AssertionError(f\"Failed to raise {err_type} exception\")\n",
    "        \n",
    "def assert_dt_equal(dt1, dt2):\n",
    "    \"\"\"\n",
    "    datetime equality is a bit more complicated than it may seem when dealing\n",
    "    with ambiguous and imaginary datetimes\n",
    "    \"\"\"\n",
    "    \n",
    "    fail_msg = f\"{dt1} != {dt2}\"\n",
    "    assert dt1.astimezone(tz.UTC) == dt2.astimezone(tz.UTC), fail_msg\n",
    "    assert dt1.tzname() == dt2.tzname(), fail_msg\n",
    "    assert dt1.utcoffset() == dt2.utcoffset(), fail_msg\n",
    "    assert dt1.dst() == dt2.dst(), fail_msg\n",
    "        \n",
    "NYC = tz.gettz('America/New_York')\n",
    "with assert_raises(AmbiguousTimeError):\n",
    "    localize(datetime(2004, 10, 31, 1, 30), NYC, is_dst=None)\n",
    "    \n",
    "with assert_raises(NonExistentTimeError):\n",
    "    localize(datetime(2004, 4, 4, 2, 30), NYC, is_dst=None)\n",
    "\n",
    "with assert_raises(ValueError):\n",
    "    localize(datetime(2004, 10, 31, 1, 30, tzinfo=NYC), NYC)\n",
    "    \n",
    "assert_dt_equal(\n",
    "    localize(datetime(2004, 10, 31, 1, 30), NYC, is_dst=False),\n",
    "    datetime(2004, 10, 31, 1, 30, fold=1, tzinfo=NYC))\n",
    "\n",
    "assert_dt_equal(\n",
    "    localize(datetime(2004, 10, 31, 1, 30), NYC, is_dst=True),\n",
    "    datetime(2004, 10, 31, 1, 30, fold=0, tzinfo=NYC))\n",
    "\n",
    "print(\"Passed!\")"
   ]
  },
  {
   "cell_type": "markdown",
   "metadata": {},
   "source": [
    "## Aware datetime comparison semantics"
   ]
  },
  {
   "cell_type": "markdown",
   "metadata": {},
   "source": [
    "We will start this section off with a mysterious bug involving the comparison of datetimes:"
   ]
  },
  {
   "cell_type": "code",
   "execution_count": 50,
   "metadata": {},
   "outputs": [],
   "source": [
    "LON = tz.gettz('Europe/London')\n",
    "\n",
    "# Construct a datetime\n",
    "x = datetime(2007, 3, 25, 1, 9, tzinfo=LON)\n",
    "ts = x.timestamp()    # Get a timestamp representing the same datetime\n",
    "\n",
    "# Get the same datetime from the timestamp\n",
    "y = datetime.fromtimestamp(ts, LON)\n",
    "\n",
    "# Get thesame datetime from the timestamp with a fresh instance of LON\n",
    "z = datetime.fromtimestamp(ts, tz.gettz.nocache('Europe/London'))"
   ]
  },
  {
   "cell_type": "code",
   "execution_count": 51,
   "metadata": {},
   "outputs": [
    {
     "data": {
      "text/plain": [
       "False"
      ]
     },
     "execution_count": 51,
     "metadata": {},
     "output_type": "execute_result"
    }
   ],
   "source": [
    "x == y"
   ]
  },
  {
   "cell_type": "code",
   "execution_count": 52,
   "metadata": {},
   "outputs": [
    {
     "data": {
      "text/plain": [
       "True"
      ]
     },
     "execution_count": 52,
     "metadata": {},
     "output_type": "execute_result"
    }
   ],
   "source": [
    "x == z"
   ]
  },
  {
   "cell_type": "code",
   "execution_count": 53,
   "metadata": {},
   "outputs": [
    {
     "data": {
      "text/plain": [
       "True"
      ]
     },
     "execution_count": 53,
     "metadata": {},
     "output_type": "execute_result"
    }
   ],
   "source": [
    "y == z"
   ]
  },
  {
   "cell_type": "markdown",
   "metadata": {},
   "source": [
    "To summarize: x, y and z should all represent the same `datetime` – they all have the same time zone, and y and z are the result of converting x into a timestamp and then back into a `datetime`, but for some reason `x != y`, and, even more curiously, `x == z`, even though the only difference between y and z is that z uses a different `tzinfo` object (representing the same zone). Even stranger, the equality relationship between the three is non-transitive, because `x != y` even though `x == z` and `y == z`. What the hell is going on?"
   ]
  },
  {
   "cell_type": "markdown",
   "metadata": {},
   "source": [
    "### Inter-zone vs. intra-zone comparisons"
   ]
  },
  {
   "cell_type": "markdown",
   "metadata": {},
   "source": [
    "In Python, comparisons between datetimes are divided into \"same zone\" and \"different zone\" comparisons. When two `datetime`s are in the same time-zone, they are equal if their \"wall time\" is the same, *even if they represent different absolute times*:"
   ]
  },
  {
   "cell_type": "code",
   "execution_count": 54,
   "metadata": {},
   "outputs": [
    {
     "name": "stdout",
     "output_type": "stream",
     "text": [
      "2017-10-29 01:30:00+01:00 | 1509237000.0\n",
      "2017-10-29 01:30:00+00:00 | 1509240600.0\n"
     ]
    }
   ],
   "source": [
    "dt1 = datetime(2017, 10, 29, 1, 30, tzinfo=LON)\n",
    "dt2 = datetime(2017, 10, 29, 1, 30, fold=1, tzinfo=LON)\n",
    "\n",
    "print(f\"{dt1} | {dt1.timestamp()}\")\n",
    "print(f\"{dt2} | {dt2.timestamp()}\")"
   ]
  },
  {
   "cell_type": "code",
   "execution_count": 55,
   "metadata": {},
   "outputs": [
    {
     "data": {
      "text/plain": [
       "True"
      ]
     },
     "execution_count": 55,
     "metadata": {},
     "output_type": "execute_result"
    }
   ],
   "source": [
    "dt1 == dt2"
   ]
  },
  {
   "cell_type": "markdown",
   "metadata": {},
   "source": [
    "Comparisons between datetimes in *different* zones, however, use \"absolute time\" semantics, meaning that the wall time can be different, as long as they refer to the same time in UTC:"
   ]
  },
  {
   "cell_type": "code",
   "execution_count": 56,
   "metadata": {},
   "outputs": [
    {
     "name": "stdout",
     "output_type": "stream",
     "text": [
      "2018-04-07 01:30:00-05:00 | 1523082600.0\n",
      "2018-04-07 02:30:00-04:00 | 1523082600.0\n"
     ]
    }
   ],
   "source": [
    "dt1 = datetime(2018, 4, 7, 1, 30, tzinfo=tz.gettz(\"America/Chicago\"))\n",
    "dt2 = datetime(2018, 4, 7, 2, 30, tzinfo=tz.gettz(\"America/New_York\"))\n",
    "print(f\"{dt1} | {dt1.timestamp()}\")\n",
    "print(f\"{dt2} | {dt2.timestamp()}\")"
   ]
  },
  {
   "cell_type": "code",
   "execution_count": 57,
   "metadata": {},
   "outputs": [
    {
     "data": {
      "text/plain": [
       "True"
      ]
     },
     "execution_count": 57,
     "metadata": {},
     "output_type": "execute_result"
    }
   ],
   "source": [
    "dt1 == dt2"
   ]
  },
  {
   "cell_type": "markdown",
   "metadata": {},
   "source": [
    "#### What does it mean to be in the \"same zone\"?\n",
    "\n",
    "When deciding what is the \"same zone\" and what is a \"different zone\", Python uses *object equality* rather than *value equality*, which means to say two datetimes are in the same zone if `dt1.tzinfo is dt2.tzinfo`, and otherwise they are in different zones, *even if* `dt1.tzinfo == dt2.tzinfo`!\n",
    "\n",
    "This means that we can re-cast the \"intra-zone\" comparison as an \"inter-zone\" comparison by just getting a new object to represent the same zone:"
   ]
  },
  {
   "cell_type": "code",
   "execution_count": 58,
   "metadata": {},
   "outputs": [
    {
     "name": "stdout",
     "output_type": "stream",
     "text": [
      "2017-10-29 01:30:00+01:00 | 1509237000.0\n",
      "2017-10-29 01:30:00+00:00 | 1509240600.0\n",
      "\n",
      "2017-10-29 01:30:00+01:00 == 2017-10-29 01:30:00+00:00: False\n"
     ]
    }
   ],
   "source": [
    "dt1 = datetime(2017, 10, 29, 1, 30, tzinfo=LON)\n",
    "dt2 = datetime(2017, 10, 29, 1, 30, fold=1, tzinfo=tz.gettz.nocache(\"Europe/London\"))\n",
    "\n",
    "print(f\"{dt1} | {dt1.timestamp()}\")\n",
    "print(f\"{dt2} | {dt2.timestamp()}\")\n",
    "print(\"\")\n",
    "print(f\"{dt1} == {dt2}: {dt1 == dt2}\")"
   ]
  },
  {
   "cell_type": "markdown",
   "metadata": {},
   "source": [
    "### Solving the mystery"
   ]
  },
  {
   "cell_type": "markdown",
   "metadata": {},
   "source": [
    "Returning to the mystery we started the section off with, we can now apply the same/different zone comparison semantics to our non-transitive equality and see what's happening."
   ]
  },
  {
   "cell_type": "code",
   "execution_count": 59,
   "metadata": {},
   "outputs": [
    {
     "name": "stdout",
     "output_type": "stream",
     "text": [
      "x == y (Same Zone): False\n",
      "x: 2007-03-25 01:09:00+01:00 (1174781340.0)\n",
      "y: 2007-03-25 00:09:00+00:00 (1174781340.0)\n",
      "\n",
      "x == z (Different Zone): True\n",
      "x: 2007-03-25 01:09:00+01:00 (1174781340.0)\n",
      "z: 2007-03-25 00:09:00+00:00 (1174781340.0)\n",
      "\n",
      "y == z (Different Zone): True\n",
      "y: 2007-03-25 00:09:00+00:00 (1174781340.0)\n",
      "z: 2007-03-25 00:09:00+00:00 (1174781340.0)\n"
     ]
    }
   ],
   "source": [
    "def zone_semantics(dt1, dt2):\n",
    "    return \"Same Zone\" if dt1.tzinfo is dt2.tzinfo else \"Different Zone\"\n",
    "\n",
    "print(f\"x == y ({zone_semantics(x, y)}): {x == y}\")\n",
    "print(f\"x: {x} ({x.timestamp()})\")\n",
    "print(f\"y: {y} ({y.timestamp()})\")\n",
    "print(\"\")\n",
    "print(f\"x == z ({zone_semantics(x, z)}): {x == z}\")\n",
    "print(f\"x: {x} ({x.timestamp()})\")\n",
    "print(f\"z: {z} ({z.timestamp()})\")\n",
    "print(\"\")\n",
    "print(f\"y == z ({zone_semantics(y, z)}): {y == z}\")\n",
    "print(f\"y: {y} ({y.timestamp()})\")\n",
    "print(f\"z: {z} ({z.timestamp()})\")"
   ]
  },
  {
   "cell_type": "markdown",
   "metadata": {},
   "source": [
    "#### But wait...\n",
    "Aren't `y` and `z` supposed to be `datetime.fromtimestamp(x.timestamp())`? Why is the wall time different after a round trip through a timestamp?\n",
    "\n",
    "And if these are all in the exact same time zone, why are there two different wall times for the same timestamp?"
   ]
  },
  {
   "cell_type": "code",
   "execution_count": 60,
   "metadata": {},
   "outputs": [
    {
     "data": {
      "text/plain": [
       "False"
      ]
     },
     "execution_count": 60,
     "metadata": {},
     "output_type": "execute_result"
    }
   ],
   "source": [
    "tz.datetime_exists(x)"
   ]
  },
  {
   "cell_type": "markdown",
   "metadata": {},
   "source": [
    "... because `x` is an imaginary datetime!"
   ]
  },
  {
   "cell_type": "markdown",
   "metadata": {},
   "source": [
    "## Aware datetime arithmetic semantics"
   ]
  },
  {
   "cell_type": "code",
   "execution_count": 61,
   "metadata": {},
   "outputs": [],
   "source": [
    "import tz_answers\n",
    "from tz_answers import wall_add, wall_sub\n",
    "from tz_answers import absolute_add, absolute_sub\n",
    "from tz_answers import AbsoluteDateTime, WallDateTime"
   ]
  },
  {
   "cell_type": "markdown",
   "metadata": {},
   "source": [
    "We have looked at *comparison* semantics, but it is worth noting that the difference between \"same zone\" and \"different zone\" comparisons really only makes a difference during *ambiguous* times and as we've seen in *imaginary* times. At all other times, the two are equivalent.\n",
    "\n",
    "Comparison is just a specific case of the more general arithmetical property of `datetime` objects that operations between datetimes in the same zone use \"wall time\" semantics (i.e. looking at the clock on the wall) and operations between dateimes in different zones use \"absolute time\" semantics (i.e. looking at a stopwatch or timestamp).\n",
    "\n",
    "\n",
    "#### Wall time vs. absolute time semantics\n",
    "Colloquially, time periods tend to be overloaded concepts, and what you mean when you say, e.g., \"a day\" or \"a month\" depends on the context. Looking at the following code, what would you expect the value for `dt2` to be?"
   ]
  },
  {
   "cell_type": "code",
   "execution_count": 62,
   "metadata": {},
   "outputs": [],
   "source": [
    "dt1 = datetime(2018, 3, 10, 13, tzinfo=NYC)\n",
    "dt2 = dt1 + timedelta(days=1)"
   ]
  },
  {
   "cell_type": "markdown",
   "metadata": {},
   "source": [
    "There are two options, the first is using \"wall time\" semantics, returning the next day at the same time (rolling the clock forward by 24 hours):"
   ]
  },
  {
   "cell_type": "code",
   "execution_count": 63,
   "metadata": {},
   "outputs": [
    {
     "name": "stdout",
     "output_type": "stream",
     "text": [
      "2018-03-10 13:00:00-05:00\n",
      "2018-03-11 13:00:00-04:00\n"
     ]
    }
   ],
   "source": [
    "print(dt1)\n",
    "print(wall_add(dt1, timedelta(days=1)))"
   ]
  },
  {
   "cell_type": "markdown",
   "metadata": {},
   "source": [
    "The second option is to use \"absolute time\" semantics, where we jump forward to the point in time after which 24 hours have elapsed in the \"real world\". Because the start date here is immediately before a daylight saving time transition, these give *different* answers:"
   ]
  },
  {
   "cell_type": "code",
   "execution_count": 64,
   "metadata": {},
   "outputs": [
    {
     "name": "stdout",
     "output_type": "stream",
     "text": [
      "2018-03-10 13:00:00-05:00\n",
      "2018-03-11 14:00:00-04:00\n"
     ]
    }
   ],
   "source": [
    "print(dt1)\n",
    "print(absolute_add(dt1, timedelta(days=1)))"
   ]
  },
  {
   "cell_type": "markdown",
   "metadata": {},
   "source": [
    "The concept of \"add one day\" is overloaded in this situation because the meaning of \"1 day\" can either mean \"the period between two identical clock times on subsequent days\" or it can mean \"the period during which 24 hours have elapsed\"."
   ]
  },
  {
   "cell_type": "markdown",
   "metadata": {},
   "source": [
    "**Question**: Which behavior is more intuitive? What would you choose for the default?"
   ]
  },
  {
   "cell_type": "markdown",
   "metadata": {},
   "source": [
    "Now look at subtraction between two datetimes across a DST transition:"
   ]
  },
  {
   "cell_type": "code",
   "execution_count": 65,
   "metadata": {},
   "outputs": [],
   "source": [
    "dt1 = datetime(2018, 3, 10, 13, 30, tzinfo=NYC)\n",
    "dt2 = datetime(2018, 3, 11, 8, 30, tzinfo=NYC)"
   ]
  },
  {
   "cell_type": "code",
   "execution_count": 66,
   "metadata": {},
   "outputs": [
    {
     "name": "stdout",
     "output_type": "stream",
     "text": [
      "19:00:00\n"
     ]
    }
   ],
   "source": [
    "print(wall_sub(dt2, dt1))"
   ]
  },
  {
   "cell_type": "code",
   "execution_count": 67,
   "metadata": {},
   "outputs": [
    {
     "name": "stdout",
     "output_type": "stream",
     "text": [
      "18:00:00\n"
     ]
    }
   ],
   "source": [
    "print(absolute_sub(dt2, dt1))"
   ]
  },
  {
   "cell_type": "markdown",
   "metadata": {},
   "source": [
    "A total of 18 real hours have elapsed, but `8 - 13 % 24 == 19`, so 19 \"wall hours\" have elapsed.\n",
    "\n",
    "**Question**: Which behavior is more intuitive? What would you choose as the default (ignoring your choice for the earlier question)\n"
   ]
  },
  {
   "cell_type": "markdown",
   "metadata": {},
   "source": [
    "### Python's behavior"
   ]
  },
  {
   "cell_type": "markdown",
   "metadata": {},
   "source": [
    "Assuming Python wanted to be consistent and have all operations use *either* wall-time operations or absolute-time operations, whatever you choose is likely to have some non-intuitive behaviors. If, for example, we were to choose to always use *absolute* `datetime`s, you would likely find someone who writes some variation of this code:"
   ]
  },
  {
   "cell_type": "code",
   "execution_count": 68,
   "metadata": {},
   "outputs": [
    {
     "name": "stdout",
     "output_type": "stream",
     "text": [
      "2018-03-09 12:00:00-05:00\n",
      "2018-03-10 12:00:00-05:00\n",
      "2018-03-11 13:00:00-04:00\n",
      "2018-03-12 13:00:00-04:00\n"
     ]
    }
   ],
   "source": [
    "DAY = timedelta(days=1)\n",
    "dtstart = AbsoluteDateTime(2018, 3, 9, 12, tzinfo=NYC)\n",
    "for i in range(4):\n",
    "    print(dtstart + i * DAY)"
   ]
  },
  {
   "cell_type": "markdown",
   "metadata": {},
   "source": [
    "and they would be confused as to why all of a sudden their noon meeting was happening at 1 PM after a DST transition. If you choose *wall* times for everything, you'll get someone who writes some variation on *this* code:"
   ]
  },
  {
   "cell_type": "code",
   "execution_count": 69,
   "metadata": {},
   "outputs": [],
   "source": [
    "dtstart = WallDateTime(2018, 4, 17, 12, tzinfo=NYC)\n",
    "dtend = WallDateTime(2018, 4, 17, 12, tzinfo=tz.gettz('America/Los_Angeles'))"
   ]
  },
  {
   "cell_type": "code",
   "execution_count": 70,
   "metadata": {},
   "outputs": [
    {
     "name": "stdout",
     "output_type": "stream",
     "text": [
      "2018-04-17 12:00:00-04:00\n",
      "2018-04-17 12:00:00-07:00\n"
     ]
    }
   ],
   "source": [
    "print(dtstart)\n",
    "print(dtend)"
   ]
  },
  {
   "cell_type": "code",
   "execution_count": 71,
   "metadata": {},
   "outputs": [
    {
     "name": "stdout",
     "output_type": "stream",
     "text": [
      "0:00:00\n"
     ]
    }
   ],
   "source": [
    "print(dtend - dtstart)"
   ]
  },
  {
   "cell_type": "markdown",
   "metadata": {},
   "source": [
    "and they'll be surprised to find that these two events that happened 3 hours apart give 0 hours difference!"
   ]
  },
  {
   "cell_type": "markdown",
   "metadata": {},
   "source": [
    "As we saw in the comparison case, Python actually uses hybrid semantics that can be somewhat confusing, though there is at least a rhyme and a reason behind it. For arithmetic within the \"same zone\", all operations use wall time semantics. Because addition returns a `datetime` in the same time zone as the input `datetime`, it is always considered a \"same zone\" operation, and thus always uses wall time semantics.\n",
    "\n",
    "Because wall time semantics across different time zones is essentially *never* what you want, the choice of \"absolute time\" semantics for subtractions between two datetimes in different time zones also makes sense and gives you the \"intuitive\" behavior you would expect.\n",
    "\n",
    "However, note that both wall-time subtraction and absolute-time subtraction return a `timedelta`, which has no notion of whether it represents a period of \"wall time\" or a period of \"absolute time\". As a result, you are stuck with a counter-intuitive result:"
   ]
  },
  {
   "cell_type": "code",
   "execution_count": 72,
   "metadata": {},
   "outputs": [],
   "source": [
    "dt1 = datetime(2018, 3, 11, 1, tzinfo=NYC)\n",
    "dt2 = datetime(2018, 3, 11, 1, tzinfo=tz.gettz('America/Los_Angeles'))"
   ]
  },
  {
   "cell_type": "code",
   "execution_count": 73,
   "metadata": {},
   "outputs": [
    {
     "data": {
      "text/plain": [
       "True"
      ]
     },
     "execution_count": 73,
     "metadata": {},
     "output_type": "execute_result"
    }
   ],
   "source": [
    "dt1 == dt2 + (dt1 - dt2)"
   ]
  },
  {
   "cell_type": "code",
   "execution_count": 74,
   "metadata": {},
   "outputs": [
    {
     "data": {
      "text/plain": [
       "False"
      ]
     },
     "execution_count": 74,
     "metadata": {},
     "output_type": "execute_result"
    }
   ],
   "source": [
    "dt2 == dt1 + (dt2 - dt1)"
   ]
  },
  {
   "cell_type": "markdown",
   "metadata": {},
   "source": [
    "Across a DST boundary, you cannot reverse a between-zone boundary by adding the result (a `timedelta`) to the original value!"
   ]
  },
  {
   "cell_type": "markdown",
   "metadata": {},
   "source": [
    "### Exercise: Implement explicit wall-time and absolute-time arithmetic\n"
   ]
  },
  {
   "cell_type": "markdown",
   "metadata": {},
   "source": [
    "Knowing how Python handles aware time zone arithmetic, by paying attention to the time zones you work in you should be able to design your system so that you get the semantics you want, *but* it is occasionally the case that you will mostly want wall-time semantics but for some operations you want absolute time, or vice-versa. In this case, you will want a way to explicitly operate using either wall-time or absolute-time semantics.\n",
    "\n",
    "In this exercise, implement the `wall_add`, `wall_sub`, `absolute_add` and `absolute_sub` functions that explicitly give you wall time or absolute time semantics."
   ]
  },
  {
   "cell_type": "code",
   "execution_count": 75,
   "metadata": {},
   "outputs": [],
   "source": [
    "def wall_add(dt: datetime, offset: timedelta) -> datetime:\n",
    "    \"\"\"Addition with \"wall-time\" semantics\"\"\"\n",
    "    ### REPLACE BETWEEN THESE ###\n",
    "    return tz_answers.wall_add(dt, offset)\n",
    "    ######### END ###############\n",
    "\n",
    "def wall_sub(dt: datetime, other: datetime) -> timedelta:\n",
    "    \"\"\"Subtraction with \"wall time\" semantics\"\"\"\n",
    "    ### REPLACE BETWEEN THESE ###\n",
    "    return tz_answers.wall_sub(dt, other)\n",
    "    ######### END ###############\n",
    "\n",
    "    return dt.replace(tzinfo=None)- other.replace(tzinfo=None)\n",
    "\n",
    "def absolute_add(dt: datetime, offset: timedelta) -> datetime:\n",
    "    \"\"\"Addition with \"absolute time\" semantics\"\"\"\n",
    "    ### REPLACE BETWEEN THESE ###\n",
    "    return tz_answers.absolute_add(dt, offset)\n",
    "    ######### END ###############\n",
    "\n",
    "def absolute_sub(dt: datetime, other: datetime) -> timedelta:\n",
    "    ### REPLACE BETWEEN THESE ###\n",
    "    return tz_answers.absolute_sub(dt, other)\n",
    "    ######### END ###############"
   ]
  },
  {
   "cell_type": "code",
   "execution_count": 76,
   "metadata": {},
   "outputs": [
    {
     "name": "stdout",
     "output_type": "stream",
     "text": [
      "Passed!\n"
     ]
    }
   ],
   "source": [
    "# Tests\n",
    "sub_pairs = [\n",
    "    (datetime(2018, 3, 11, 1, tzinfo=tz.gettz('America/Los_Angeles')),\n",
    "     datetime(2018, 3, 11, 1, tzinfo=NYC)),\n",
    "    (datetime(2018, 3, 11, 8, 30, tzinfo=NYC),\n",
    "     datetime(2018, 3, 10, 13, 30, tzinfo=NYC)),\n",
    "]\n",
    "\n",
    "for dt1, dt2 in sub_pairs:\n",
    "    assert absolute_sub(dt1, dt2) == tz_answers.absolute_sub(dt1, dt2), f\"absolute_sub({dt1}, {dt2})\"\n",
    "    assert wall_sub(dt1, dt2) == tz_answers.wall_sub(dt1, dt2), f\"wall_sub({dt1}, {dt2})\"\n",
    "\n",
    "add_pairs = [\n",
    "    (datetime(2018, 3, 10, 13, tzinfo=NYC), timedelta(days=1)),\n",
    "]\n",
    "\n",
    "for dt, off in add_pairs:\n",
    "    assert absolute_add(dt, off) == tz_answers.absolute_add(dt, off), f\"absolute_add({dt}, {off})\"\n",
    "    assert wall_add(dt, off) == tz_answers.wall_add(dt, off), f\"wall_sub({dt}, {off})\"\n",
    "\n",
    "print(\"Passed!\")"
   ]
  },
  {
   "cell_type": "markdown",
   "metadata": {},
   "source": [
    "## Handling local times"
   ]
  },
  {
   "cell_type": "markdown",
   "metadata": {},
   "source": [
    "\"Local time\" is a very common concept that is irritatingly difficult to capture correctly. A naïve `datetime.datetime` in Python has a somewhat overloaded meaning in that it mostly represents an abstract datetime for use with calendrical calculations, but when used as a concrete time, it is interpreted as being in the system's local time zone.\n",
    "\n",
    "For example:"
   ]
  },
  {
   "cell_type": "code",
   "execution_count": 77,
   "metadata": {},
   "outputs": [
    {
     "name": "stdout",
     "output_type": "stream",
     "text": [
      "2020-01-01 20:00:00+00:00\n",
      "2020-01-01 03:00:00+00:00\n"
     ]
    }
   ],
   "source": [
    "from helper_functions import TZEnvContext  # Sets the local time zone during the context\n",
    "                                           # This does not work on Windows\n",
    "\n",
    "dt = datetime(2020, 1, 1, 12)\n",
    "with TZEnvContext(\"America/Los_Angeles\"):\n",
    "    dt_la = dt.astimezone(timezone.utc)\n",
    "    \n",
    "with TZEnvContext(\"Asia/Tokyo\"):\n",
    "    dt_tok = dt.astimezone(timezone.utc)\n",
    "    \n",
    "print(dt_la)\n",
    "print(dt_tok)"
   ]
  },
  {
   "cell_type": "markdown",
   "metadata": {},
   "source": [
    "This works in the other direction as well:"
   ]
  },
  {
   "cell_type": "code",
   "execution_count": 78,
   "metadata": {},
   "outputs": [
    {
     "name": "stdout",
     "output_type": "stream",
     "text": [
      "2020-01-01 12:00:00+00:00\n"
     ]
    }
   ],
   "source": [
    "dt = datetime(2020, 1, 1, 21, tzinfo=tz.gettz(\"Asia/Tokyo\"))\n",
    "\n",
    "with TZEnvContext(\"UTC\"):\n",
    "    print(dt.astimezone(None))"
   ]
  },
  {
   "cell_type": "markdown",
   "metadata": {},
   "source": [
    "These are not true local times, however, as they do not expose any information about the time zone through `tzname()` or `utcoffset()`:"
   ]
  },
  {
   "cell_type": "code",
   "execution_count": 79,
   "metadata": {},
   "outputs": [
    {
     "name": "stdout",
     "output_type": "stream",
     "text": [
      "None\n"
     ]
    }
   ],
   "source": [
    "print(datetime(2020, 1, 1, 12).utcoffset())"
   ]
  },
  {
   "cell_type": "markdown",
   "metadata": {},
   "source": [
    "And you cannot perform comparisons or arithmetic between naive datetimes and aware datetimes:"
   ]
  },
  {
   "cell_type": "code",
   "execution_count": 80,
   "metadata": {},
   "outputs": [
    {
     "name": "stdout",
     "output_type": "stream",
     "text": [
      "TypeError(\"can't subtract offset-naive and offset-aware datetimes\")\n"
     ]
    }
   ],
   "source": [
    "try:\n",
    "    datetime(2020, 1, 1, 12) - datetime(2020, 1, 1, 12, tzinfo=NYC)\n",
    "except TypeError as e:\n",
    "    print(repr(e))"
   ]
  },
  {
   "cell_type": "markdown",
   "metadata": {},
   "source": [
    "### `dateutil.tz.tzlocal`"
   ]
  },
  {
   "cell_type": "markdown",
   "metadata": {},
   "source": [
    "The Python standard library provides hooks into the operating system's time zone information in the `time module`:"
   ]
  },
  {
   "cell_type": "code",
   "execution_count": 81,
   "metadata": {},
   "outputs": [
    {
     "name": "stdout",
     "output_type": "stream",
     "text": [
      "tzname: ('EST', 'EDT')\n",
      "timezone: 18000\n",
      "altzone: 14400\n"
     ]
    }
   ],
   "source": [
    "import time\n",
    "\n",
    "with TZEnvContext(\"America/New_York\"):\n",
    "    print(f\"tzname: {time.tzname}\")\n",
    "    print(f\"timezone: {time.timezone}\")\n",
    "    print(f\"altzone: {time.altzone}\")"
   ]
  },
  {
   "cell_type": "markdown",
   "metadata": {},
   "source": [
    "But there is no concrete local time object in the standard library, *so* `dateutil` has implemented one with `dateutil.tz.tzlocal`!"
   ]
  },
  {
   "cell_type": "code",
   "execution_count": 82,
   "metadata": {},
   "outputs": [
    {
     "name": "stdout",
     "output_type": "stream",
     "text": [
      "Los Angeles\n",
      "2020-01-01 12:00:00-0800\n",
      "    tzname:   PST;      UTC Offset:  -8.00h;        DST:      0.0h\n",
      "\n",
      "Chicago\n",
      "2020-01-01 12:00:00-0600\n",
      "    tzname:   CST;      UTC Offset:  -6.00h;        DST:      0.0h\n"
     ]
    }
   ],
   "source": [
    "with TZEnvContext(\"America/Los_Angeles\"):\n",
    "    print(\"Los Angeles\")\n",
    "    print_dt_tzinfo(datetime(2020, 1, 1, 12, tzinfo=tz.tzlocal()))\n",
    "print(\"\")\n",
    "with TZEnvContext(\"America/Chicago\"):\n",
    "    print(\"Chicago\")\n",
    "    print_dt_tzinfo(datetime(2020, 1, 1, 12, tzinfo=tz.tzlocal()))\n"
   ]
  },
  {
   "cell_type": "markdown",
   "metadata": {},
   "source": [
    "This allows you to get a proper timezone-aware datetime in your system's locale."
   ]
  },
  {
   "cell_type": "markdown",
   "metadata": {},
   "source": [
    "### Changing local zone during a program's run"
   ]
  },
  {
   "cell_type": "markdown",
   "metadata": {},
   "source": [
    "The system time zone changing during a program's run is *not* particularly well-supported operation, and you should avoid it if at all possible when working with local times: prefer to get the desired time zone from your users rather than from the system.\n",
    "\n",
    "On Linux, it is necessary to call `time.tzset()` after any change to the the system time locale in order to see those changes reflected in the system. On Windows, `time.tzset()` does nothing, and restarting the interpreter is the only way to update the time zone from the perspective of the `time` function.\n",
    "\n",
    "If your program is or could run on Windows, it is preferable to use the `dateutil.tz.tzwinlocal()` function to represent local times, as it queries the system registry directly."
   ]
  },
  {
   "cell_type": "markdown",
   "metadata": {},
   "source": [
    "On Windows, you can see this problem: \n",
    "\n",
    "```python\n",
    ">>> dt = datetime(2014, 2, 11, 17, 0)\n",
    "\n",
    ">>> print(dt.replace(tzinfo=tz.tzlocal()).tzname())\n",
    "Eastern Standard Time\n",
    "\n",
    ">>> print(dt.replace(tzinfo=tz.win.tzwinlocal()).tzname())\n",
    "Eastern Standard Time\n",
    "\n",
    ">>> with TZWinContext('Pacific Standard Time'):\n",
    "...     print(dt.replace(tzinfo=tz.tzlocal()).tzname())\n",
    "...     print(dt.replace(tzinfo=tz.win.tzwinlocal()).tzname())\n",
    "```\n",
    "```\n",
    "Eastern Standard Time\n",
    "Pacific Standard Time\n",
    "```"
   ]
  },
  {
   "cell_type": "markdown",
   "metadata": {},
   "source": [
    "However, in both cases (unlike the situation with all other time zone types), it is preferable to make a *new `tzinfo` object for every `datetime`*. The reason for this is that a certain amount of the behavior of `tzlocal` and `tzwinlocal` are set at construction time, so:"
   ]
  },
  {
   "cell_type": "code",
   "execution_count": 83,
   "metadata": {},
   "outputs": [
    {
     "name": "stdout",
     "output_type": "stream",
     "text": [
      "2014-02-11 17:00:00-05:00\n",
      "2014-02-11 17:00:00-05:00\n"
     ]
    }
   ],
   "source": [
    "with TZEnvContext(\"America/New_York\"):\n",
    "    LOCAL = tz.tzlocal()\n",
    "\n",
    "with TZEnvContext(\"America/Los_Angeles\"):\n",
    "    print(datetime(2014, 2, 11, 17, tzinfo=LOCAL))\n",
    "\n",
    "with TZEnvContext(\"America/Chicago\"):\n",
    "    print(datetime(2014, 2, 11, 17, tzinfo=LOCAL))\n"
   ]
  },
  {
   "cell_type": "markdown",
   "metadata": {},
   "source": [
    "Note that both of these are using the offset specified in the *original* time zone. What's worse is that because `tzlocal` does not have direct access to the function mapping `datetime` to offsets, if the system time zone changes, the offsets are baked in at runtime, but the dates of DST changes use the *current system offsets*, thus creating a hybrid object that is *really* wrong:"
   ]
  },
  {
   "cell_type": "code",
   "execution_count": 84,
   "metadata": {},
   "outputs": [
    {
     "name": "stdout",
     "output_type": "stream",
     "text": [
      "2019-03-20 10:00:00-04:00\n",
      "2019-03-20 10:00:00-05:00\n",
      "2019-03-20 10:00:00+00:00\n"
     ]
    }
   ],
   "source": [
    "with TZEnvContext(\"America/New_York\"):\n",
    "    print(datetime(2019, 3, 20, 10, tzinfo=LOCAL))\n",
    "    \n",
    "with TZEnvContext(\"Europe/London\"):\n",
    "    print(datetime(2019, 3, 20, 10, tzinfo=LOCAL))\n",
    "    print(datetime(2019, 3, 20, 10, tzinfo=tz.gettz(\"Europe/London\")))"
   ]
  },
  {
   "cell_type": "markdown",
   "metadata": {},
   "source": [
    "If possible, I recommend avoiding using \"local\" time at all, and instead either convert to UTC eagerly (if dealing in absolute times) or have a user-configurable time zone mapping to either the IANA database or the Windows time zone settings.\n",
    "\n",
    "And I will note that these particular kinds of bugs are probably incredibly rare with some mitigations, since it requires a non-Windows user to change their time zone during the lifetime of a `tzlocal` object to another time zone that has a different schedule for DST changes. It can happen, but it will probably not make your application useless if you don't handle it correctly."
   ]
  }
 ],
 "metadata": {
  "kernelspec": {
   "display_name": "Python 3",
   "language": "python",
   "name": "python3"
  },
  "language_info": {
   "codemirror_mode": {
    "name": "ipython",
    "version": 3
   },
   "file_extension": ".py",
   "mimetype": "text/x-python",
   "name": "python",
   "nbconvert_exporter": "python",
   "pygments_lexer": "ipython3",
   "version": "3.7.2"
  }
 },
 "nbformat": 4,
 "nbformat_minor": 2
}
